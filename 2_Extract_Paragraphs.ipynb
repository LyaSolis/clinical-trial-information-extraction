{
  "nbformat": 4,
  "nbformat_minor": 0,
  "metadata": {
    "colab": {
      "name": "2_Extract_Paragraphs.ipynb",
      "provenance": [],
      "collapsed_sections": [],
      "authorship_tag": "ABX9TyPBjcxK0KZttjL2Avoj3kHX",
      "include_colab_link": true
    },
    "kernelspec": {
      "name": "python3",
      "display_name": "Python 3"
    },
    "language_info": {
      "name": "python"
    }
  },
  "cells": [
    {
      "cell_type": "markdown",
      "metadata": {
        "id": "view-in-github",
        "colab_type": "text"
      },
      "source": [
        "<a href=\"https://colab.research.google.com/github/LyaSolis/clinical-trial-information-extraction/blob/main/2_Extract_Paragraphs.ipynb\" target=\"_parent\"><img src=\"https://colab.research.google.com/assets/colab-badge.svg\" alt=\"Open In Colab\"/></a>"
      ]
    },
    {
      "cell_type": "code",
      "execution_count": 1,
      "metadata": {
        "colab": {
          "base_uri": "https://localhost:8080/"
        },
        "id": "YgAqzKFdnhDC",
        "outputId": "5716baa8-d62c-4f86-a219-accc6690b185"
      },
      "outputs": [
        {
          "output_type": "stream",
          "name": "stdout",
          "text": [
            "Drive already mounted at /content/drive/; to attempt to forcibly remount, call drive.mount(\"/content/drive/\", force_remount=True).\n"
          ]
        }
      ],
      "source": [
        "from google.colab import drive\n",
        "drive.mount('/content/drive/')"
      ]
    },
    {
      "cell_type": "code",
      "source": [
        "!ls drive/MyDrive/LAG/Articles_Parsed"
      ],
      "metadata": {
        "colab": {
          "base_uri": "https://localhost:8080/"
        },
        "id": "79CqFniUxcT_",
        "outputId": "24234a48-c871-415c-b8e2-54bbd1230a0a"
      },
      "execution_count": 2,
      "outputs": [
        {
          "output_type": "stream",
          "name": "stdout",
          "text": [
            "images\tpdf_files  temp  xml_files\n"
          ]
        }
      ]
    },
    {
      "cell_type": "markdown",
      "source": [
        "### Drop Corrupt Files (by size)"
      ],
      "metadata": {
        "id": "9H5iVXBUSNmd"
      }
    },
    {
      "cell_type": "code",
      "source": [
        "%%bash\n",
        "cd drive/MyDrive/LAG/Articles_Parsed/\n",
        "mkdir temp"
      ],
      "metadata": {
        "colab": {
          "base_uri": "https://localhost:8080/"
        },
        "id": "3MaLUgiDPlNU",
        "outputId": "70554fbb-08c3-4be9-ba12-5e7aaba0805c"
      },
      "execution_count": 3,
      "outputs": [
        {
          "output_type": "stream",
          "name": "stderr",
          "text": [
            "mkdir: cannot create directory ‘temp’: File exists\n"
          ]
        }
      ]
    },
    {
      "cell_type": "code",
      "source": [
        "%%bash\n",
        "cd drive/MyDrive/LAG/Articles_Parsed/xml_files\n",
        "find . -type f -size -11k"
      ],
      "metadata": {
        "colab": {
          "base_uri": "https://localhost:8080/"
        },
        "id": "Jk29uZ9rMi6g",
        "outputId": "aadb3106-eb8f-4870-fa61-b63f247412ff"
      },
      "execution_count": 28,
      "outputs": [
        {
          "output_type": "stream",
          "name": "stdout",
          "text": [
            "./j.1399-6576.1998.tb05330.x.cermxml\n",
            "./00000542-199404000-00007.cermxml\n",
            "./j.cnki.cjap.2016.05.006.cermxml\n",
            "./00003246-199301000-00017.cermxml\n",
            "./s-2008-1067758.cermxml\n",
            "./00024382-199711000-00003.cermxml\n",
            "./bja%2F64.4.493.cermxml\n",
            "./S2213-2600%2820%2930394-5.cermxml\n",
            "./00000542-198606000-00018.cermxml\n",
            "./09031936.01.17100080.cermxml\n",
            "./00003246-198907000-00003.cermxml\n",
            "./00004872-198811000-00008.cermxml\n",
            "./NEJM199112123252404.cermxml\n",
            "./00005344-199404000-00001.cermxml\n",
            "./a%3A1010604913656.cermxml\n",
            "./s-2003-40371.cermxml\n",
            "./00004872-198610000-00010.cermxml\n",
            "./00003246-199406000-00014.cermxml\n",
            "./chest.128.2.714.cermxml\n",
            "./s-2008-1068292.cermxml\n",
            "./00006231-199903000-00007.cermxml\n",
            "./NEJM199302113280605.cermxml\n",
            "./00005344-199105000-00007.cermxml\n"
          ]
        }
      ]
    },
    {
      "cell_type": "code",
      "source": [
        "%%bash\n",
        "cd drive/MyDrive/LAG/Articles_Parsed/xml_files\n",
        "find . -type f -size -11k -exec mv \"{}\" ../temp/ \\;"
      ],
      "metadata": {
        "id": "jVHq4Hn0Mwh6"
      },
      "execution_count": 29,
      "outputs": []
    },
    {
      "cell_type": "code",
      "source": [
        "!ls -lh drive/MyDrive/LAG/Articles_Parsed/temp"
      ],
      "metadata": {
        "colab": {
          "base_uri": "https://localhost:8080/"
        },
        "id": "_wX1qgxENhYI",
        "outputId": "3c586cbb-4bf6-479e-cd0a-61223d4e0e8e"
      },
      "execution_count": 4,
      "outputs": [
        {
          "output_type": "stream",
          "name": "stdout",
          "text": [
            "total 63K\n",
            "-rw------- 1 root root 1.4K Jun 10 09:40 00000542-198606000-00018.cermxml\n",
            "-rw------- 1 root root 2.5K Jun 10 09:12 00000542-199404000-00007.cermxml\n",
            "-rw------- 1 root root 1.6K Jun 10 09:46 00003246-198907000-00003.cermxml\n",
            "-rw------- 1 root root 1.6K Jun 10 09:14 00003246-199301000-00017.cermxml\n",
            "-rw------- 1 root root 1.4K Jun 10 10:29 00003246-199406000-00014.cermxml\n",
            "-rw------- 1 root root 1.8K Jun 10 10:22 00004872-198610000-00010.cermxml\n",
            "-rw------- 1 root root 2.1K Jun 10 09:53 00004872-198811000-00008.cermxml\n",
            "-rw------- 1 root root 1.8K Jun 10 11:30 00005344-199105000-00007.cermxml\n",
            "-rw------- 1 root root 2.1K Jun 10 10:05 00005344-199404000-00001.cermxml\n",
            "-rw------- 1 root root 1.8K Jun 10 11:06 00006231-199903000-00007.cermxml\n",
            "-rw------- 1 root root 1.8K Jun 10 09:22 00024382-199711000-00003.cermxml\n",
            "-rw------- 1 root root 5.4K Jun 10 09:45 09031936.01.17100080.cermxml\n",
            "-rw------- 1 root root 3.2K Jun 10 10:05 a%3A1010604913656.cermxml\n",
            "-rw------- 1 root root 4.3K Jun 10 09:23 bja%2F64.4.493.cermxml\n",
            "-rw------- 1 root root 3.9K Jun 10 10:31 chest.128.2.714.cermxml\n",
            "-rw------- 1 root root 1.1K Jun 10 09:00 j.1399-6576.1998.tb05330.x.cermxml\n",
            "-rw------- 1 root root 6.5K Jun 10 09:13 j.cnki.cjap.2016.05.006.cermxml\n",
            "-rw------- 1 root root 1.5K Jun 10 10:01 NEJM199112123252404.cermxml\n",
            "-rw------- 1 root root 1.4K Jun 10 11:16 NEJM199302113280605.cermxml\n",
            "-rw------- 1 root root 3.4K Jun 10 10:16 s-2003-40371.cermxml\n",
            "-rw------- 1 root root 3.2K Jun 10 09:15 s-2008-1067758.cermxml\n",
            "-rw------- 1 root root  916 Jun 10 10:47 s-2008-1068292.cermxml\n",
            "-rw------- 1 root root 3.6K Jun 10 09:29 S2213-2600%2820%2930394-5.cermxml\n"
          ]
        }
      ]
    },
    {
      "cell_type": "code",
      "source": [
        "!cat drive/MyDrive/LAG/Articles_Parsed/temp/00000542-199404000-00007.cermxml"
      ],
      "metadata": {
        "colab": {
          "base_uri": "https://localhost:8080/"
        },
        "id": "5Y_uH6jDNtmO",
        "outputId": "3496c441-32f2-4ea5-fb1a-1c6ab3b18edf"
      },
      "execution_count": 5,
      "outputs": [
        {
          "output_type": "stream",
          "name": "stdout",
          "text": [
            "<!DOCTYPE article PUBLIC \"-//NLM//DTD JATS (Z39.96) Journal Archiving and Interchange DTD v1.0 20120330//EN\" \"JATS-archivearticle1.dtd\">\n",
            "<article xmlns:xlink=\"http://www.w3.org/1999/xlink\">\r\n",
            "  <front>\r\n",
            "    <journal-meta />\r\n",
            "    <article-meta />\r\n",
            "  </front>\r\n",
            "  <body>\r\n",
            "    <fig>\r\n",
            "      <graphic xlink:href=\"Articles/00000542-199404000-00007.images/img_1_1.png\" />\r\n",
            "    </fig>\r\n",
            "    <fig>\r\n",
            "      <graphic xlink:href=\"Articles/00000542-199404000-00007.images/img_1_2.png\" />\r\n",
            "    </fig>\r\n",
            "    <fig>\r\n",
            "      <graphic xlink:href=\"Articles/00000542-199404000-00007.images/img_2_1.png\" />\r\n",
            "    </fig>\r\n",
            "    <fig>\r\n",
            "      <graphic xlink:href=\"Articles/00000542-199404000-00007.images/img_2_2.png\" />\r\n",
            "    </fig>\r\n",
            "    <fig>\r\n",
            "      <graphic xlink:href=\"Articles/00000542-199404000-00007.images/img_3_1.png\" />\r\n",
            "    </fig>\r\n",
            "    <fig>\r\n",
            "      <graphic xlink:href=\"Articles/00000542-199404000-00007.images/img_3_2.png\" />\r\n",
            "    </fig>\r\n",
            "    <fig>\r\n",
            "      <graphic xlink:href=\"Articles/00000542-199404000-00007.images/img_4_1.png\" />\r\n",
            "    </fig>\r\n",
            "    <fig>\r\n",
            "      <graphic xlink:href=\"Articles/00000542-199404000-00007.images/img_4_2.png\" />\r\n",
            "    </fig>\r\n",
            "    <fig>\r\n",
            "      <graphic xlink:href=\"Articles/00000542-199404000-00007.images/img_5_1.png\" />\r\n",
            "    </fig>\r\n",
            "    <fig>\r\n",
            "      <graphic xlink:href=\"Articles/00000542-199404000-00007.images/img_5_2.png\" />\r\n",
            "    </fig>\r\n",
            "    <fig>\r\n",
            "      <graphic xlink:href=\"Articles/00000542-199404000-00007.images/img_6_1.png\" />\r\n",
            "    </fig>\r\n",
            "    <fig>\r\n",
            "      <graphic xlink:href=\"Articles/00000542-199404000-00007.images/img_6_2.png\" />\r\n",
            "    </fig>\r\n",
            "    <fig>\r\n",
            "      <graphic xlink:href=\"Articles/00000542-199404000-00007.images/img_7_1.png\" />\r\n",
            "    </fig>\r\n",
            "    <fig>\r\n",
            "      <graphic xlink:href=\"Articles/00000542-199404000-00007.images/img_7_2.png\" />\r\n",
            "    </fig>\r\n",
            "    <fig>\r\n",
            "      <graphic xlink:href=\"Articles/00000542-199404000-00007.images/img_8_1.png\" />\r\n",
            "    </fig>\r\n",
            "    <fig>\r\n",
            "      <graphic xlink:href=\"Articles/00000542-199404000-00007.images/img_8_2.png\" />\r\n",
            "    </fig>\r\n",
            "    <fig>\r\n",
            "      <graphic xlink:href=\"Articles/00000542-199404000-00007.images/img_9_1.png\" />\r\n",
            "    </fig>\r\n",
            "    <fig>\r\n",
            "      <graphic xlink:href=\"Articles/00000542-199404000-00007.images/img_9_2.png\" />\r\n",
            "    </fig>\r\n",
            "    <fig>\r\n",
            "      <graphic xlink:href=\"Articles/00000542-199404000-00007.images/img_10_1.png\" />\r\n",
            "    </fig>\r\n",
            "    <fig>\r\n",
            "      <graphic xlink:href=\"Articles/00000542-199404000-00007.images/img_10_2.png\" />\r\n",
            "    </fig>\r\n",
            "  </body>\r\n",
            "  <back>\r\n",
            "    <ref-list />\r\n",
            "  </back>\r\n",
            "</article>"
          ]
        }
      ]
    },
    {
      "cell_type": "code",
      "source": [
        "!cat drive/MyDrive/LAG/Articles_Parsed/temp/S2213-2600%2820%2930394-5.cermxml"
      ],
      "metadata": {
        "colab": {
          "base_uri": "https://localhost:8080/"
        },
        "id": "EkOKR9m9RIuq",
        "outputId": "41b67ed3-78d3-4633-f87f-4a2d0b770804"
      },
      "execution_count": 6,
      "outputs": [
        {
          "output_type": "stream",
          "name": "stdout",
          "text": [
            "<!DOCTYPE article PUBLIC \"-//NLM//DTD JATS (Z39.96) Journal Archiving and Interchange DTD v1.0 20120330//EN\" \"JATS-archivearticle1.dtd\">\n",
            "<article xmlns:xlink=\"http://www.w3.org/1999/xlink\">\r\n",
            "  <front>\r\n",
            "    <journal-meta>\r\n",
            "      <journal-title-group>\r\n",
            "        <journal-title>Published online August</journal-title>\r\n",
            "      </journal-title-group>\r\n",
            "    </journal-meta>\r\n",
            "    <article-meta>\r\n",
            "      <title-group>\r\n",
            "        <article-title>Pharmacotherapy for pulmonary arterial hypertension</article-title>\r\n",
            "      </title-group>\r\n",
            "      <pub-date>\r\n",
            "        <year>2020</year>\r\n",
            "      </pub-date>\r\n",
            "      <volume>25</volume>\r\n",
            "      <issue>2020</issue>\r\n",
            "    </article-meta>\r\n",
            "  </front>\r\n",
            "  <body>\r\n",
            "    <sec id=\"sec-1\">\r\n",
            "      <title>-</title>\r\n",
            "      <p>A new study has concluded that There was no significant diference\r\n",
            "adding selexipag to macitentan and in change in PVR between the\r\n",
            "tadalafil does not improve pulmonary two groups. The patients given\r\n",
            "vascular resistance in patients with double combination therapy saw an\r\n",
            "pulmonary arterial hypertension improvement in PVR of 52%, relative\r\n",
            "(PAH). The results were presented at to baseline levels, whereas those\r\n",
            "this year’s American Thoracic Society assigned the triple combination\r\n",
            "International Conference, which was saw an improvement of 54%. “The\r\n",
            "held online because of the COVID-19 results were fairly consistent across\r\n",
            "pandemic. subgroups”, said Kelly Chin (University</p>\r\n",
            "      <p>The investigators randomly assigned of Texas Southwestern Medical\r\n",
            "247 patients with PAH to receive first- Center, Dallas, TX, USA), the study’s\r\n",
            "line treatment either with macitentan corresponding author. Secondary\r\n",
            "and tadalafil, followed by the placebo endpoints were also similar.\r\n",
            "at 15 days (n=124), or macitentan “This study addresses a pressing\r\n",
            "and tadalafil, followed by selexipag question in the field: does up-front\r\n",
            "at 15 days (n=123). The patients had triple therapy improve PVR compared\r\n",
            "all been diagnosed with PAH in the with up-front dual therapy in PAH?”,\r\n",
            "6 months before randomisation. commented Bradley Maron (Harvard\r\n",
            "Mean age was 52 years. The primary Medical School, Boston, MA, USA).\r\n",
            "endpoint was change in pulmonary “It appears this may not be the case\r\n",
            "vascular resistance (PVR) at week 26. with this particular approach. That is\r\n",
            "Secondary endpoints included change not the end of the story. There may be\r\n",
            "in 6-minute walk distance and time to space to reconsider patient selection\r\n",
            "disease progression. for up-front triple therapy, and we will Talha Khan Burki\r\n",
            "also need to think about integrating\r\n",
            "the forthcoming molecular targeted\r\n",
            "therapies with the conventional\r\n",
            "therapies we already have.” He\r\n",
            "cautioned against focusing exclusively\r\n",
            "on drugs. “We have very good data\r\n",
            "on the benefits of prescribed physical\r\n",
            "activity and exercise in PAH; it would\r\n",
            "be unfortunate if these options were\r\n",
            "overlooked”, Maron told The Lancet\r\n",
            "Respiratory Medicine.</p>\r\n",
            "      <p>Chin points out that definitive Lancet Respir Med 2020\r\n",
            "answers on the benefits of Published Online\r\n",
            "pharmacotherapy in PAH can only August 25, 2020\r\n",
            "be provided by studies that examine Sh2tt2p1s3:/-/2d6o0i.0o(r2g0/1)300.1309146-/5\r\n",
            "clinically important outcomes, such For the study on selexipag see\r\n",
            "as survival. “The problem is that these Am J Resp Crit Care Med 2020;\r\n",
            "kind of studies are very large and very 201: A2928\r\n",
            "expensive”, she said. “But they are\r\n",
            "really important and the pulmonary\r\n",
            "hypertension community needs\r\n",
            "to figure out a way to make them\r\n",
            "happen.”</p>\r\n",
            "    </sec>\r\n",
            "  </body>\r\n",
            "  <back>\r\n",
            "    <ref-list />\r\n",
            "  </back>\r\n",
            "</article>"
          ]
        }
      ]
    },
    {
      "cell_type": "code",
      "source": [
        "%%bash\n",
        "cd drive/MyDrive/LAG/Articles_Parsed/xml_files\n",
        "ls | wc -l"
      ],
      "metadata": {
        "colab": {
          "base_uri": "https://localhost:8080/"
        },
        "id": "sVwXzqhpRaFZ",
        "outputId": "049eacc7-c5ff-49f7-a2d5-2da70f4ca0bd"
      },
      "execution_count": 7,
      "outputs": [
        {
          "output_type": "stream",
          "name": "stdout",
          "text": [
            "836\n"
          ]
        }
      ]
    },
    {
      "cell_type": "markdown",
      "source": [
        "836 Files left for further work"
      ],
      "metadata": {
        "id": "CdQrgS5NR2oT"
      }
    },
    {
      "cell_type": "markdown",
      "source": [
        "### Parse Files\n",
        "\n",
        "Testing it on a smaller file (incorrectly parsed, but suitable for testing code)"
      ],
      "metadata": {
        "id": "XZoTy8erSHvA"
      }
    },
    {
      "cell_type": "code",
      "source": [
        "with open(\"drive/MyDrive/LAG/Articles_Parsed/temp/S2213-2600%2820%2930394-5.cermxml\", \"r\") as f:\n",
        "  file_content = f.readlines()\n",
        "fl = []\n",
        "for line in file_content:\n",
        "  fl.append(line)\n",
        "fl"
      ],
      "metadata": {
        "colab": {
          "base_uri": "https://localhost:8080/"
        },
        "id": "aYFu93pzYCFz",
        "outputId": "ae118854-bb27-4825-9720-ac7c46718b96"
      },
      "execution_count": 8,
      "outputs": [
        {
          "output_type": "execute_result",
          "data": {
            "text/plain": [
              "['<!DOCTYPE article PUBLIC \"-//NLM//DTD JATS (Z39.96) Journal Archiving and Interchange DTD v1.0 20120330//EN\" \"JATS-archivearticle1.dtd\">\\n',\n",
              " '<article xmlns:xlink=\"http://www.w3.org/1999/xlink\">\\n',\n",
              " '  <front>\\n',\n",
              " '    <journal-meta>\\n',\n",
              " '      <journal-title-group>\\n',\n",
              " '        <journal-title>Published online August</journal-title>\\n',\n",
              " '      </journal-title-group>\\n',\n",
              " '    </journal-meta>\\n',\n",
              " '    <article-meta>\\n',\n",
              " '      <title-group>\\n',\n",
              " '        <article-title>Pharmacotherapy for pulmonary arterial hypertension</article-title>\\n',\n",
              " '      </title-group>\\n',\n",
              " '      <pub-date>\\n',\n",
              " '        <year>2020</year>\\n',\n",
              " '      </pub-date>\\n',\n",
              " '      <volume>25</volume>\\n',\n",
              " '      <issue>2020</issue>\\n',\n",
              " '    </article-meta>\\n',\n",
              " '  </front>\\n',\n",
              " '  <body>\\n',\n",
              " '    <sec id=\"sec-1\">\\n',\n",
              " '      <title>-</title>\\n',\n",
              " '      <p>A new study has concluded that There was no significant diference\\n',\n",
              " 'adding selexipag to macitentan and in change in PVR between the\\n',\n",
              " 'tadalafil does not improve pulmonary two groups. The patients given\\n',\n",
              " 'vascular resistance in patients with double combination therapy saw an\\n',\n",
              " 'pulmonary arterial hypertension improvement in PVR of 52%, relative\\n',\n",
              " '(PAH). The results were presented at to baseline levels, whereas those\\n',\n",
              " 'this year’s American Thoracic Society assigned the triple combination\\n',\n",
              " 'International Conference, which was saw an improvement of 54%. “The\\n',\n",
              " 'held online because of the COVID-19 results were fairly consistent across\\n',\n",
              " 'pandemic. subgroups”, said Kelly Chin (University</p>\\n',\n",
              " '      <p>The investigators randomly assigned of Texas Southwestern Medical\\n',\n",
              " '247 patients with PAH to receive first- Center, Dallas, TX, USA), the study’s\\n',\n",
              " 'line treatment either with macitentan corresponding author. Secondary\\n',\n",
              " 'and tadalafil, followed by the placebo endpoints were also similar.\\n',\n",
              " 'at 15 days (n=124), or macitentan “This study addresses a pressing\\n',\n",
              " 'and tadalafil, followed by selexipag question in the field: does up-front\\n',\n",
              " 'at 15 days (n=123). The patients had triple therapy improve PVR compared\\n',\n",
              " 'all been diagnosed with PAH in the with up-front dual therapy in PAH?”,\\n',\n",
              " '6 months before randomisation. commented Bradley Maron (Harvard\\n',\n",
              " 'Mean age was 52 years. The primary Medical School, Boston, MA, USA).\\n',\n",
              " 'endpoint was change in pulmonary “It appears this may not be the case\\n',\n",
              " 'vascular resistance (PVR) at week 26. with this particular approach. That is\\n',\n",
              " 'Secondary endpoints included change not the end of the story. There may be\\n',\n",
              " 'in 6-minute walk distance and time to space to reconsider patient selection\\n',\n",
              " 'disease progression. for up-front triple therapy, and we will Talha Khan Burki\\n',\n",
              " 'also need to think about integrating\\n',\n",
              " 'the forthcoming molecular targeted\\n',\n",
              " 'therapies with the conventional\\n',\n",
              " 'therapies we already have.” He\\n',\n",
              " 'cautioned against focusing exclusively\\n',\n",
              " 'on drugs. “We have very good data\\n',\n",
              " 'on the benefits of prescribed physical\\n',\n",
              " 'activity and exercise in PAH; it would\\n',\n",
              " 'be unfortunate if these options were\\n',\n",
              " 'overlooked”, Maron told The Lancet\\n',\n",
              " 'Respiratory Medicine.</p>\\n',\n",
              " '      <p>Chin points out that definitive Lancet Respir Med 2020\\n',\n",
              " 'answers on the benefits of Published Online\\n',\n",
              " 'pharmacotherapy in PAH can only August 25, 2020\\n',\n",
              " 'be provided by studies that examine Sh2tt2p1s3:/-/2d6o0i.0o(r2g0/1)300.1309146-/5\\n',\n",
              " 'clinically important outcomes, such For the study on selexipag see\\n',\n",
              " 'as survival. “The problem is that these Am J Resp Crit Care Med 2020;\\n',\n",
              " 'kind of studies are very large and very 201: A2928\\n',\n",
              " 'expensive”, she said. “But they are\\n',\n",
              " 'really important and the pulmonary\\n',\n",
              " 'hypertension community needs\\n',\n",
              " 'to figure out a way to make them\\n',\n",
              " 'happen.”</p>\\n',\n",
              " '    </sec>\\n',\n",
              " '  </body>\\n',\n",
              " '  <back>\\n',\n",
              " '    <ref-list />\\n',\n",
              " '  </back>\\n',\n",
              " '</article>']"
            ]
          },
          "metadata": {},
          "execution_count": 8
        }
      ]
    },
    {
      "cell_type": "code",
      "source": [
        "paragraph_start = []\n",
        "paragraph_end = []\n",
        "\n",
        "for ind, el in enumerate(fl):\n",
        "  if \"<p>\" in el:\n",
        "    p_start = ind\n",
        "    paragraph_start.append(p_start)\n",
        "  if \"</p>\" in el:\n",
        "    p_end = ind +1\n",
        "    paragraph_end.append(p_end)\n",
        "\n",
        "\n",
        "for st, end in zip(paragraph_start, paragraph_end):\n",
        "  print(st, end)\n"
      ],
      "metadata": {
        "colab": {
          "base_uri": "https://localhost:8080/"
        },
        "id": "a4ndqI7AdUAd",
        "outputId": "fa6985f9-b513-4f89-cd77-fcbff66c94e3"
      },
      "execution_count": 9,
      "outputs": [
        {
          "output_type": "stream",
          "name": "stdout",
          "text": [
            "22 32\n",
            "32 58\n",
            "58 70\n"
          ]
        }
      ]
    },
    {
      "cell_type": "code",
      "source": [
        "paragraphs = []\n",
        "for st, end in zip(paragraph_start, paragraph_end):\n",
        "  paragraphs.append(fl[st:end])\n",
        "\n",
        "paragraphs"
      ],
      "metadata": {
        "colab": {
          "base_uri": "https://localhost:8080/"
        },
        "id": "AfD1Ygi5kXHS",
        "outputId": "12a497fd-47ff-45be-edf8-905c526c9bf2"
      },
      "execution_count": 10,
      "outputs": [
        {
          "output_type": "execute_result",
          "data": {
            "text/plain": [
              "[['      <p>A new study has concluded that There was no significant diference\\n',\n",
              "  'adding selexipag to macitentan and in change in PVR between the\\n',\n",
              "  'tadalafil does not improve pulmonary two groups. The patients given\\n',\n",
              "  'vascular resistance in patients with double combination therapy saw an\\n',\n",
              "  'pulmonary arterial hypertension improvement in PVR of 52%, relative\\n',\n",
              "  '(PAH). The results were presented at to baseline levels, whereas those\\n',\n",
              "  'this year’s American Thoracic Society assigned the triple combination\\n',\n",
              "  'International Conference, which was saw an improvement of 54%. “The\\n',\n",
              "  'held online because of the COVID-19 results were fairly consistent across\\n',\n",
              "  'pandemic. subgroups”, said Kelly Chin (University</p>\\n'],\n",
              " ['      <p>The investigators randomly assigned of Texas Southwestern Medical\\n',\n",
              "  '247 patients with PAH to receive first- Center, Dallas, TX, USA), the study’s\\n',\n",
              "  'line treatment either with macitentan corresponding author. Secondary\\n',\n",
              "  'and tadalafil, followed by the placebo endpoints were also similar.\\n',\n",
              "  'at 15 days (n=124), or macitentan “This study addresses a pressing\\n',\n",
              "  'and tadalafil, followed by selexipag question in the field: does up-front\\n',\n",
              "  'at 15 days (n=123). The patients had triple therapy improve PVR compared\\n',\n",
              "  'all been diagnosed with PAH in the with up-front dual therapy in PAH?”,\\n',\n",
              "  '6 months before randomisation. commented Bradley Maron (Harvard\\n',\n",
              "  'Mean age was 52 years. The primary Medical School, Boston, MA, USA).\\n',\n",
              "  'endpoint was change in pulmonary “It appears this may not be the case\\n',\n",
              "  'vascular resistance (PVR) at week 26. with this particular approach. That is\\n',\n",
              "  'Secondary endpoints included change not the end of the story. There may be\\n',\n",
              "  'in 6-minute walk distance and time to space to reconsider patient selection\\n',\n",
              "  'disease progression. for up-front triple therapy, and we will Talha Khan Burki\\n',\n",
              "  'also need to think about integrating\\n',\n",
              "  'the forthcoming molecular targeted\\n',\n",
              "  'therapies with the conventional\\n',\n",
              "  'therapies we already have.” He\\n',\n",
              "  'cautioned against focusing exclusively\\n',\n",
              "  'on drugs. “We have very good data\\n',\n",
              "  'on the benefits of prescribed physical\\n',\n",
              "  'activity and exercise in PAH; it would\\n',\n",
              "  'be unfortunate if these options were\\n',\n",
              "  'overlooked”, Maron told The Lancet\\n',\n",
              "  'Respiratory Medicine.</p>\\n'],\n",
              " ['      <p>Chin points out that definitive Lancet Respir Med 2020\\n',\n",
              "  'answers on the benefits of Published Online\\n',\n",
              "  'pharmacotherapy in PAH can only August 25, 2020\\n',\n",
              "  'be provided by studies that examine Sh2tt2p1s3:/-/2d6o0i.0o(r2g0/1)300.1309146-/5\\n',\n",
              "  'clinically important outcomes, such For the study on selexipag see\\n',\n",
              "  'as survival. “The problem is that these Am J Resp Crit Care Med 2020;\\n',\n",
              "  'kind of studies are very large and very 201: A2928\\n',\n",
              "  'expensive”, she said. “But they are\\n',\n",
              "  'really important and the pulmonary\\n',\n",
              "  'hypertension community needs\\n',\n",
              "  'to figure out a way to make them\\n',\n",
              "  'happen.”</p>\\n']]"
            ]
          },
          "metadata": {},
          "execution_count": 10
        }
      ]
    },
    {
      "cell_type": "markdown",
      "source": [
        "Wrapping it into a single cell"
      ],
      "metadata": {
        "id": "UlE1MJnYlX_n"
      }
    },
    {
      "cell_type": "code",
      "source": [
        "fl = []\n",
        "with open(\"drive/MyDrive/LAG/Articles_Parsed/temp/S2213-2600%2820%2930394-5.cermxml\", \"r\") as f:\n",
        "  file_content = f.readlines()\n",
        "  for line in file_content:\n",
        "    fl.append(line)\n",
        "\n",
        "\n",
        "paragraph_start = []\n",
        "paragraph_end = []\n",
        "\n",
        "for ind, el in enumerate(fl):\n",
        "  if \"<p>\" in el:\n",
        "    p_start = ind\n",
        "    paragraph_start.append(p_start)\n",
        "  if \"</p>\" in el:\n",
        "    p_end = ind +1\n",
        "    paragraph_end.append(p_end)\n",
        "\n",
        "\n",
        "paragraphs = []\n",
        "for st, end in zip(paragraph_start, paragraph_end):\n",
        "  paragraphs.append(fl[st:end])\n",
        "\n",
        "clean_paragraphs = []\n",
        "for paragraph in paragraphs:\n",
        "  clean_paragraph = []\n",
        "  for line in paragraph:\n",
        "    line = line.strip()\n",
        "    line = line.replace('<p>', '')\n",
        "    line = line.replace('</p>', '')\n",
        "    clean_paragraph.append(line)\n",
        "  clean_paragraphs.append(clean_paragraph)\n",
        "\n",
        "clean_paragraphs"
      ],
      "metadata": {
        "colab": {
          "base_uri": "https://localhost:8080/"
        },
        "id": "FiIkksCgkizg",
        "outputId": "af076b25-46f8-482d-98d1-28080d3d9972"
      },
      "execution_count": 11,
      "outputs": [
        {
          "output_type": "execute_result",
          "data": {
            "text/plain": [
              "[['A new study has concluded that There was no significant diference',\n",
              "  'adding selexipag to macitentan and in change in PVR between the',\n",
              "  'tadalafil does not improve pulmonary two groups. The patients given',\n",
              "  'vascular resistance in patients with double combination therapy saw an',\n",
              "  'pulmonary arterial hypertension improvement in PVR of 52%, relative',\n",
              "  '(PAH). The results were presented at to baseline levels, whereas those',\n",
              "  'this year’s American Thoracic Society assigned the triple combination',\n",
              "  'International Conference, which was saw an improvement of 54%. “The',\n",
              "  'held online because of the COVID-19 results were fairly consistent across',\n",
              "  'pandemic. subgroups”, said Kelly Chin (University'],\n",
              " ['The investigators randomly assigned of Texas Southwestern Medical',\n",
              "  '247 patients with PAH to receive first- Center, Dallas, TX, USA), the study’s',\n",
              "  'line treatment either with macitentan corresponding author. Secondary',\n",
              "  'and tadalafil, followed by the placebo endpoints were also similar.',\n",
              "  'at 15 days (n=124), or macitentan “This study addresses a pressing',\n",
              "  'and tadalafil, followed by selexipag question in the field: does up-front',\n",
              "  'at 15 days (n=123). The patients had triple therapy improve PVR compared',\n",
              "  'all been diagnosed with PAH in the with up-front dual therapy in PAH?”,',\n",
              "  '6 months before randomisation. commented Bradley Maron (Harvard',\n",
              "  'Mean age was 52 years. The primary Medical School, Boston, MA, USA).',\n",
              "  'endpoint was change in pulmonary “It appears this may not be the case',\n",
              "  'vascular resistance (PVR) at week 26. with this particular approach. That is',\n",
              "  'Secondary endpoints included change not the end of the story. There may be',\n",
              "  'in 6-minute walk distance and time to space to reconsider patient selection',\n",
              "  'disease progression. for up-front triple therapy, and we will Talha Khan Burki',\n",
              "  'also need to think about integrating',\n",
              "  'the forthcoming molecular targeted',\n",
              "  'therapies with the conventional',\n",
              "  'therapies we already have.” He',\n",
              "  'cautioned against focusing exclusively',\n",
              "  'on drugs. “We have very good data',\n",
              "  'on the benefits of prescribed physical',\n",
              "  'activity and exercise in PAH; it would',\n",
              "  'be unfortunate if these options were',\n",
              "  'overlooked”, Maron told The Lancet',\n",
              "  'Respiratory Medicine.'],\n",
              " ['Chin points out that definitive Lancet Respir Med 2020',\n",
              "  'answers on the benefits of Published Online',\n",
              "  'pharmacotherapy in PAH can only August 25, 2020',\n",
              "  'be provided by studies that examine Sh2tt2p1s3:/-/2d6o0i.0o(r2g0/1)300.1309146-/5',\n",
              "  'clinically important outcomes, such For the study on selexipag see',\n",
              "  'as survival. “The problem is that these Am J Resp Crit Care Med 2020;',\n",
              "  'kind of studies are very large and very 201: A2928',\n",
              "  'expensive”, she said. “But they are',\n",
              "  'really important and the pulmonary',\n",
              "  'hypertension community needs',\n",
              "  'to figure out a way to make them',\n",
              "  'happen.”']]"
            ]
          },
          "metadata": {},
          "execution_count": 11
        }
      ]
    },
    {
      "cell_type": "code",
      "source": [
        "with open('txt_file.txt', 'w') as x:\n",
        "    x.write('\\n'.join(' '.join(map(str, row)) for row in clean_paragraphs))\n"
      ],
      "metadata": {
        "id": "Ni1FiPua09Qo"
      },
      "execution_count": 12,
      "outputs": []
    },
    {
      "cell_type": "code",
      "source": [
        "!cat txt_file.txt"
      ],
      "metadata": {
        "colab": {
          "base_uri": "https://localhost:8080/"
        },
        "id": "UnxNnWaD3C4U",
        "outputId": "91029c60-ed4f-49ca-a54e-5d97a031e4b8"
      },
      "execution_count": 13,
      "outputs": [
        {
          "output_type": "stream",
          "name": "stdout",
          "text": [
            "A new study has concluded that There was no significant diference adding selexipag to macitentan and in change in PVR between the tadalafil does not improve pulmonary two groups. The patients given vascular resistance in patients with double combination therapy saw an pulmonary arterial hypertension improvement in PVR of 52%, relative (PAH). The results were presented at to baseline levels, whereas those this year’s American Thoracic Society assigned the triple combination International Conference, which was saw an improvement of 54%. “The held online because of the COVID-19 results were fairly consistent across pandemic. subgroups”, said Kelly Chin (University\n",
            "The investigators randomly assigned of Texas Southwestern Medical 247 patients with PAH to receive first- Center, Dallas, TX, USA), the study’s line treatment either with macitentan corresponding author. Secondary and tadalafil, followed by the placebo endpoints were also similar. at 15 days (n=124), or macitentan “This study addresses a pressing and tadalafil, followed by selexipag question in the field: does up-front at 15 days (n=123). The patients had triple therapy improve PVR compared all been diagnosed with PAH in the with up-front dual therapy in PAH?”, 6 months before randomisation. commented Bradley Maron (Harvard Mean age was 52 years. The primary Medical School, Boston, MA, USA). endpoint was change in pulmonary “It appears this may not be the case vascular resistance (PVR) at week 26. with this particular approach. That is Secondary endpoints included change not the end of the story. There may be in 6-minute walk distance and time to space to reconsider patient selection disease progression. for up-front triple therapy, and we will Talha Khan Burki also need to think about integrating the forthcoming molecular targeted therapies with the conventional therapies we already have.” He cautioned against focusing exclusively on drugs. “We have very good data on the benefits of prescribed physical activity and exercise in PAH; it would be unfortunate if these options were overlooked”, Maron told The Lancet Respiratory Medicine.\n",
            "Chin points out that definitive Lancet Respir Med 2020 answers on the benefits of Published Online pharmacotherapy in PAH can only August 25, 2020 be provided by studies that examine Sh2tt2p1s3:/-/2d6o0i.0o(r2g0/1)300.1309146-/5 clinically important outcomes, such For the study on selexipag see as survival. “The problem is that these Am J Resp Crit Care Med 2020; kind of studies are very large and very 201: A2928 expensive”, she said. “But they are really important and the pulmonary hypertension community needs to figure out a way to make them happen.”"
          ]
        }
      ]
    },
    {
      "cell_type": "markdown",
      "source": [
        "Test it on a large file from dataset"
      ],
      "metadata": {
        "id": "RzoL4AJlxAMp"
      }
    },
    {
      "cell_type": "code",
      "source": [
        "%%bash\n",
        "cd drive/MyDrive/LAG/Articles_Parsed/xml_files\n",
        "find . -type f -size +180k"
      ],
      "metadata": {
        "colab": {
          "base_uri": "https://localhost:8080/"
        },
        "id": "yZM1fNfqw_na",
        "outputId": "2cd507b2-4f60-47e0-b24c-0e2df1b8e008"
      },
      "execution_count": 14,
      "outputs": [
        {
          "output_type": "stream",
          "name": "stdout",
          "text": [
            "./1745-6215-14-91.cermxml\n"
          ]
        }
      ]
    },
    {
      "cell_type": "code",
      "source": [
        "!head drive/MyDrive/LAG/Articles_Parsed/xml_files/1745-6215-14-91.cermxml"
      ],
      "metadata": {
        "colab": {
          "base_uri": "https://localhost:8080/"
        },
        "id": "Z1JWXbSAxXJs",
        "outputId": "f8d8e1d6-147c-4b1a-c840-cf71f8c048d8"
      },
      "execution_count": 15,
      "outputs": [
        {
          "output_type": "stream",
          "name": "stdout",
          "text": [
            "<!DOCTYPE article PUBLIC \"-//NLM//DTD JATS (Z39.96) Journal Archiving and Interchange DTD v1.0 20120330//EN\" \"JATS-archivearticle1.dtd\">\n",
            "<article xmlns:xlink=\"http://www.w3.org/1999/xlink\">\r\n",
            "  <front>\r\n",
            "    <journal-meta>\r\n",
            "      <journal-title-group>\r\n",
            "        <journal-title>Trials</journal-title>\r\n",
            "      </journal-title-group>\r\n",
            "    </journal-meta>\r\n",
            "    <article-meta>\r\n",
            "      <article-id pub-id-type=\"doi\">10.1186/1745-6215-14-91</article-id>\r\n"
          ]
        }
      ]
    },
    {
      "cell_type": "code",
      "source": [
        "fl = []\n",
        "with open(\"drive/MyDrive/LAG/Articles_Parsed/xml_files/1745-6215-14-91.cermxml\", \"r\") as f:\n",
        "  file_content = f.readlines()\n",
        "  for line in file_content:\n",
        "    fl.append(line)\n",
        "\n",
        "\n",
        "paragraph_start = []\n",
        "paragraph_end = []\n",
        "\n",
        "for ind, el in enumerate(fl):\n",
        "  if \"<p>\" in el:\n",
        "    p_start = ind\n",
        "    paragraph_start.append(p_start)\n",
        "  if \"</p>\" in el:\n",
        "    p_end = ind +1\n",
        "    paragraph_end.append(p_end)\n",
        "\n",
        "\n",
        "paragraphs = []\n",
        "for st, end in zip(paragraph_start, paragraph_end):\n",
        "  paragraphs.append(fl[st:end])\n",
        "\n",
        "clean_paragraphs = []\n",
        "for paragraph in paragraphs:\n",
        "  clean_paragraph = []\n",
        "  for line in paragraph:\n",
        "    line = line.strip()\n",
        "    line = line.replace('<p>', '')\n",
        "    line = line.replace('</p>', '')\n",
        "    clean_paragraph.append(line)\n",
        "  clean_paragraphs.append(clean_paragraph)\n",
        "\n",
        "with open('txt_file.txt', 'w') as x:\n",
        "    x.write('\\n'.join(' '.join(map(str, row)) for row in clean_paragraphs))"
      ],
      "metadata": {
        "id": "3xgFBmdHxsEV"
      },
      "execution_count": 28,
      "outputs": []
    },
    {
      "cell_type": "code",
      "source": [
        "!cat txt_file.txt"
      ],
      "metadata": {
        "colab": {
          "base_uri": "https://localhost:8080/"
        },
        "id": "cGr5k0p83mpf",
        "outputId": "2252c355-a08e-4b80-f867-b417e93affee"
      },
      "execution_count": 29,
      "outputs": [
        {
          "output_type": "stream",
          "name": "stdout",
          "text": [
            "Background: Pulmonary arterial hypertension is a rare disorder associated with poor survival. Endothelial dysfunction plays a central role in the pathogenesis and progression of pulmonary arterial hypertension. Inflammation appears to drive this dysfunctional endothelial phenotype, propagating cycles of injury and repair in genetically susceptible patients with idiopathic and disease-associated pulmonary arterial hypertension. Therapy targeting pulmonary vascular inflammation to interrupt cycles of injury and repair and thereby delay or prevent right ventricular failure and death has not been tested. Spironolactone, a mineralocorticoid and androgen receptor antagonist, has been shown to improve endothelial function and reduce inflammation. Current management of patients with pulmonary arterial hypertension and symptoms of right heart failure includes use of mineralocorticoid receptor antagonists for their diuretic and natriuretic effects. We hypothesize that initiating spironolactone therapy at an earlier stage of disease in patients with pulmonary arterial hypertension could provide additional benefits through anti-inflammatory effects and improvements in pulmonary vascular function. Methods/Design: Seventy patients with pulmonary arterial hypertension without clinical evidence of right ventricular failure will be enrolled in a randomized, double-blinded, placebo-controlled trial to investigate the effect of early treatment with spironolactone on exercise capacity, clinical worsening and vascular inflammation in vivo. Our primary endpoint is change in placebo-corrected 6-minute walk distance at 24 weeks and the incidence of clinical worsening in the spironolactone group compared to placebo. At a two-sided alpha level of 0.05, we will have at least 84% power to detect an effect size (group mean difference divided by standard deviation) of 0.9 for the difference in the change of 6-minute walk distance from baseline between the two groups. Secondary endpoints include the effect of spironolactone on the change in placebo-corrected maximal oxygen consumption; plasma markers of vascular inflammation and peripheral blood mononuclear cell gene expression profiles; sympathetic nervous system activation, renin-angiotensin-aldosterone system activation and sex hormone metabolism; and right ventricular structure and function using echocardiography and novel high-resolution magnetic resonance imaging-based techniques. Safety and tolerability of spironolactone will be assessed with periodic monitoring for hyperkalemia and renal insufficiency as well as the incidence of drug discontinuation for untoward effects. Trial registration: ClinicalTrials.gov: NCT01712620\n",
            " The vascular injury-induced forms of pulmonary hypertension (PH), collectively referred to as pulmonary arterial hypertension (PAH), are distinct from other causes of PH such as left-sided heart failure, parenchymal lung disease with hypoxemia and chronic thromboembolic disease (Table 1) [ <xref ref-type=\"bibr\" rid=\"ref1\">1</xref> ]. Idiopathic pulmonary arterial hypertension (IPAH) is an unexplained form of PAH where the triggering insult to the endothelium is unclear. Several diseases may manifest PAH (referred to as disease-associated PAH) that is histopathologically identical to IPAH. The underlying process responsible for these primary diseases are thought to injure the pulmonary endothelium and ultimately lead to the development of PAH (Table 1.) [ <xref ref-type=\"bibr\" rid=\"ref1\">1</xref> ]. \n",
            " PAH is two to four times more common in woman with a mean age at diagnosis of 50.1 ±14.4 years, but it may occur at any age [ <xref ref-type=\"bibr\" rid=\"ref2\">2</xref> ]. Prior to recent advances in treatment, the median survival for all patients in the National Institutes of Health (NIH) registry was 2.8 years; the 1-, 3- and 5-year survivals were 68%, 48% and 34%, respectively [ <xref ref-type=\"bibr\" rid=\"ref3\">3</xref> ]. With the advent of epoprostenol therapy, the 1-, 3- and 5-year survivals for patients with IPAH has improved to 87%, 63% and 54%, respectively [ <xref ref-type=\"bibr\" rid=\"ref4\">4</xref> ], but mortality remains unacceptably high. Therefore, therapeutic approaches that modify the natural history of IPAH and disease-associated PAH have become a major focus. \n",
            " The initial mechanisms responsible for the development of IPAH and other forms of PAH remain incompletely understood. Independent of the inciting event, endothelial dysfunction appears to play a central role both in the pathogenesis and progression of PAH [ <xref ref-type=\"bibr\" rid=\"ref5 ref6\">5,6</xref> ]. Inflammation has been implicated as a driver of this dysfunctional endothelial phenotype, propagating cycles of injury and repair in genetically susceptible patients with IPAH and patients with disease-associated PAH [ <xref ref-type=\"bibr\" rid=\"ref7 ref8 ref9\">7-9</xref> ]. Histologic specimens from patients with IPAH reveal the presence of inflammatory cells, including macrophages and T- and B-lymphocytes, within classic plexiform lesions that are the hallmark of PAH [ <xref ref-type=\"bibr\" rid=\"ref10 ref7\">7,10</xref> ]. Independent of the effects on vascular remodeling, endothelial inflammation may directly impact right ventricular (RV) function [ <xref ref-type=\"bibr\" rid=\"ref11\">11</xref> ], possibly explaining the imperfect relationship between worsening RV function despite improvements in pulmonary vascular resistance in patients on standard therapy for PAH [ <xref ref-type=\"bibr\" rid=\"ref12\">12</xref> ]. \n",
            " Despite strong epidemiological evidence demonstrating a female predominance in PAH, the underlying mechanisms for this gender inequality are unclear [ <xref ref-type=\"bibr\" rid=\"ref13\">13</xref> ]. In recent animal models of PAH that simulate features of the human disease such as occlusive or angioproliferative pulmonary vascular beds with formation of plexiform lesions and endothelial disruption, female rats develop more severe PAH than males [ <xref ref-type=\"bibr\" rid=\"ref14\">14</xref> ]. The importance of sex hormone signaling in PAH suggests a potential therapeutic role for nuclear receptor (NR) ligands and their cognate receptors. The steroid hormone receptors, including estrogen receptor-α and -β, androgen receptor, glucocorticoid receptor, mineralocorticoid receptor (MR) and progesterone receptor, are a subgroup of the NR family of transcription factors. Our laboratory is interested in investigating anti-inflammatory NR pathways that specifically target the endothelium. \n",
            " MR antagonists have been widely used in patients with left-sided heart failure or left ventricular (LV) dysfunction post-myocardial infarction [ <xref ref-type=\"bibr\" rid=\"ref15 ref16\">15,16</xref> ]. The clinical benefit of MR antagonists in these patients has been linked to poorly characterized anti-inflammatory properties and less so to their better understood diuretic or natriuretic effects [ <xref ref-type=\"bibr\" rid=\"ref17 ref18\">17,18</xref> ]. Spironolactone, a combined MR and androgen receptor antagonist, improves endothelial dysfunction in patients with left-sided heart failure [ <xref ref-type=\"bibr\" rid=\"ref19 ref20 ref21\">19-21</xref> ], rheumatoid arthritis [ <xref ref-type=\"bibr\" rid=\"ref22\">22</xref> ], and in women with polycystic ovarian syndrome [ <xref ref-type=\"bibr\" rid=\"ref23\">23</xref> ], suggesting a possible mechanism for its clinical efficacy in these patient populations. One group has suggested that spironolactone interferes with NFκB signaling in human monocytes in a non-MR dependent manner, but the molecular basis for this conclusion has not been further clarified [ <xref ref-type=\"bibr\" rid=\"ref24 ref25\">24,25</xref> ]. In a recent study utilizing two different animal models of PH, MR antagonists demonstrated beneficial effects on aldosterone-induced pulmonary vascular remodeling, RV hypertrophy and oxidant stress [ <xref ref-type=\"bibr\" rid=\"ref26\">26</xref> ]. Current management of patients with severe PAH and New York Heart Association/World Health Organization (NYHA/WHO) class IV symptoms includes use of MR antagonists once clinical right heart failure has developed for their diuretic and natriuretic effects [ <xref ref-type=\"bibr\" rid=\"ref27\">27</xref> ]. Initiating therapy with spironolactone at an earlier stage of disease in patients with PAH is a novel approach to treatment and could provide benefits through anti-inflammatory mechanisms and improvements in endothelial function that might alter the natural history of PAH. To date, however, there have been no randomized clinical trials examining the safety and efficacy of MR antagonist therapy in PAH without right heart failure. In vitro data from our laboratory demonstrate that spironolactone suppresses NFκB-mediated inflammatory signaling in human endothelial cells (unpublished results). We are actively investigating the molecular mechanisms that mediate the anti-inflammatory activity of spironolactone and the relative contributions of MR, androgen receptor and progesterone receptor, as well as NRindependent effects. \n",
            "Patients with PAH (that is, Group 1 PH, Table 1) without RV failure on either no medical therapy or stable medical therapy for at least 4 weeks will be recruited to the NIH Clinical Center for a randomized, double-blinded, placebocontrolled study of early treatment with spironolactone to investigate the effect of treatment on exercise capacity, clinical worsening and vascular inflammation in vivo. In addition, safety and tolerability will be assessed with periodic monitoring for hyperkalemia, renal insufficiency and overall incidence of study drug intolerance relative to placebo.\n",
            "This study adheres to the principles of the Declaration of Helsinki and has been approved by the NIH Clinical Center Deputy Ethics Counselor and the National Heart, Lung, and Blood Institute (NHLBI) Institutional Review Board (12-CC-0211). Written informed consent will be obtained from all participants at the NIH Clinical Center prior to undergoing any testing or treatment described in this protocol. Most eligible patients will be referred from Pulmonary Hypertension Specialty Clinics. At the time of enrollment, each patient will be asked to identify a primary responsible licensed practitioner who will be notified of the patient’s enrollment and made aware of the potential development of adverse study drug effects (such as hyperkalemia and renal insufficiency) during the course of the trial. If a patient does not have a physician with expertise in PH, then they will either be referred to a physician with such expertise or they will be provided ‘standard of care’ therapy at the NIH. Eligibility will be based on information obtained from our Natural History Study and from any additional information provided by the referring physician. Participants must be at least 18 years of age and must be able to provide informed, written consent for participation in this study. There is no exclusion based on race or gender. Women of childbearing potential must agree to use adequate contraception prior to and for the duration of study participation.\n",
            "Eligible individuals are patients with PAH (that is, Group 1 PH, Table 1) without clinical evidence of RV failure receiving either no medical therapy or stable medical therapy for at least the past 4 weeks (defined as no new PAH-specific therapy, no change in the dose of current PAH-specific therapy and no change in NYHA/ WHO functional classification). The following parameters on right heart catheterization are required to meet the hemodynamic definition of PAH: mean pulmonary artery pressure of &gt;25 mmHg at rest, pulmonary capillary wedge pressure of ≤15 mmHg (or LV end-diastolic pressure ≤12 mmHg) and pulmonary vascular resistance of &gt;3 Wood units (240 dyn ⋅s ⋅cm-5). If clinically indicated at the time of enrollment, then a right heart catheterization will be performed at the NIH Clinical Center upon study entry. Exclusion criteria are as follows: 1. Patients with WHO Group 1 PH and evidence of right heart failure as defined by: a. NYHA/WHO class IV symptoms\n",
            "AND b. Echocardiographic evidence of severe RV dysfunction\n",
            "AND c. Clinical signs which may include, but are not limited to elevated jugular venous pressure, ascites, and lower extremity edema 2. Patients with WHO Group 1 PH and a prior diagnosis of cirrhosis with portal hypertension as evidenced by a history of ascites, hepatic encephalopathy and/or varices prior to enrollment. 3. Patients with WHO Group 1 PH and evidence of active infection. (Patients with HIV infection and two consecutive viral loads of &lt;500 on their most recent determinations in the past 12 months will be considered to have inactive infection.) 4. Patients with WHO Group 1 PH who have taken spironolactone or eplerenone within the last 30 days. 5. Known or suspected allergy to spironolactone. 6. Pregnant or breastfeeding women. 7. Age &lt;18 years. 8. Inability to provide informed written consent for participation in the study. 9. Chronic kidney disease defined as estimated glomerular filtration rate (eGFR) of &lt;50 mL/min/1.73 m2 of body surface area. (eGFR will be calculated using the isotope dilution mass spectrometry-traceable Modification of Diet in Renal Disease Study equation and corrected for body surface area as follows: eGFR = 175 × (serum creatinine in mg/dL)-1.154 × (age in years)-0.203 × [1.212 if African-American] × [0.742 if female].) 10. Serum potassium at the time of enrollment of &gt;5 mEq/L or current use of potassium-sparing diuretics, angiotensin-converting enzyme (ACE) inhibitors, angiotensin II receptor blockers or drospirenone-containing oral contraceptives.\n",
            "All participants will undergo baseline testing under our Natural History protocol and serial (12 and 24 weeks) testing under this protocol according to the schedules outlined in Additional file 1: Figure S1 (all time points are approximations, ±7 days). Following each interval assessment period (baseline, 12 and 24 weeks), patients will be discharged home under the care of their referring and/or primary physicians. During the study, participants are permitted to have other medications, including PAHspecific therapies, adjusted by their primary physician as clinically necessary.\n",
            "Our primary endpoint is the effect of spironolactone therapy on the change in placebo-corrected 6-minute walk distance at 24 weeks relative to baseline values and the incidence of clinical worsening in the spironolactone group compared to placebo. Clinical worsening will be defined as the addition of a new PAH-specific medication (a prostacyclin, an endothelin-1 receptor antagonist or a phosphodiesterase-5 inhibitor), dose or route escalation (that is inhaled prostacyclin changed to intravenous prostacyclin) of a current PAH-specific medication, development of right heart failure requiring hospitalization or an escalation in outpatient diuretic therapy (that is, initiation of a new diuretic or a dose escalation of current diuretic therapy), transplantation, or death.\n",
            "Secondary endpoints include effect of spironolactone therapy on exercise capacity, as measured by the change in placebo-corrected VO2 maximum at 24 weeks relative to baseline values; effect of spironolactone therapy on plasma markers of vascular inflammation (see Table 2) and peripheral blood mononuclear cell (PBMC) gene expression profiles, comparing changes from baseline between the treatment and placebo groups; effect of spironolactone therapy on sympathetic nervous system activation, renin-angiotensin-aldosterone system activation and sex hormone metabolism, comparing changes from baseline between the treatment and control groups (see Table 2); effect of spironolactone therapy on RV function as assessed by echocardiography, magnetic resonance imaging (MRI) and N-terminal pro-brain natriuretic peptide (NT-proBNP), comparing changes from baseline between the treatment and placebo groups; and safety and tolerability of spironolactone therapy as determined by the rate of study drug discontinuation due to hyperkalemia (serum potassium ≥5.3 mEq/L), renal insufficiency (serum creatinine rise &gt;50% of baseline), or other side effects such as breast pain and gynecomastia compared to placebo.\n",
            "The total duration of the treatment period will be 24 weeks. Treatment assignment will be double-blinded.\n",
            "Randomization will be computer-generated and participants will be stratified according to the cause of PAH (idiopathic, heritable, and drug or toxin-induced PAH versus disease-associated PAH) and NYHA/WHO classification (I or II versus III; see Table 3). Participants meeting eligibility criteria for enrollment will be randomized to either 25 mg of spironolactone or matching placebo once daily. The NIH Clinical Center Pharmaceutical Development Section will be compounding and monitoring study drug stability. Four different capsules will be prepared: spironolactone 25 mg and matching placebo, and spironolactone 50 mg and matching placebo. If the 25 mg dose of study drug is well tolerated, (that is, potassium remains &lt;5.0 mEq/L and serum creatinine does not increase &gt;50% from baseline at study entry) then the dose will be increased to 50 mg daily following week 6 laboratory monitoring (Figure 1).\n",
            "All participants will receive new study drug in the mail between weeks 7 and 9 of the study. Participants who are not eligible for the dose increase (Figure 1) will also receive new study drug but the dose will be unchanged.\n",
            "The 25 mg and 50 mg dosage formulations will each be a different colored capsule so that the participants and providers can easily discern them. Two different colormatched placebo capsules will be formulated as well.\n",
            "Study coordinators will contact participants and instruct them to begin the new study medication at the appropriate time. Participants will also be instructed to mail their old study medication bottles back to the NIH Clinical Center to avoid confusion with the new study drug.\n",
            "All participants randomized to either spironolactone or placebo will be counseled on avoiding foods high in potassium and avoiding concurrent use of nonsteroidal anti-inflammatory drugs (NSAIDs). The NIH Clinical Center Pharmacy conducted a formal drug-drug interaction Neurohormonal axis Sympathetic activation Epinephrine, norepinephrine, arginine vasopressin Renin-angiotensin-aldosterone system activation Renin activity, aldosterone, angiotensin II, NT-proBNP Sex hormone metabolism Androstenedione, dehydroepiandrosterone sulfate, free testosterone, estradiol, 2-methoxyestradiol, urine 2-hydroxyestradiol:16α-hydroxyestrone ratio Abbreviations: IL-1β, interleukin-1 beta; IL1RL1, interleukin-1 receptor-like 1; IL-6, interleukin-6; IL-7, interleukin-7; IL-8, interleukin-8; MCP-1, monocyte chemotactic protein-1; NT-proBNP, N-terminal pro-brain natriuretic peptide; sCD40L, soluble CD40 ligand; sICAM-1, soluble intercellular adhesion molecule 1; sVCAM-1, soluble vascular cell adhesion molecule 1; TNFα, tumor necrosis factor alpha. evaluation using MicromedexW (Truven Health Analytics Inc., Ann Arbor, MI, USA), Lexi-Interact™ (Lexi-Comp Inc., Hudson, OH, USA), the package insert for spironolactone, and a focused literature search. No significant interactions were found for spironolactone or any of the PAH-specific drug classes or for HIV antiretroviral therapy. However, phosphodiesterase-5 inhibitors and prostacyclin analogs may enhance the hypotensive effect of any class of antihypertensive medications.\n",
            "Patients taking potassium supplements at the time of screening will be eligible for enrollment if the primary treating physician and the study investigators believe that it is clinically safe to decrease the current dose or stop the supplement depending on the clinical situation.\n",
            "Potassium will be monitored frequently during this protocol and, if necessary, potassium supplementation can be resumed based on standard clinical practice.\n",
            "The modified NYHA/WHO functional classification provides a simple way of classifying the extent of functional\n",
            " Patients with pulmonary hypertension with inability to carry out any physical activity without symptoms. These patients manifest signs of right heart failure. Dyspnea and/or fatigue may even be present at rest. Discomfort is increased by any physical activity. impairment in patients with PH [ <xref ref-type=\"bibr\" rid=\"ref28\">28</xref> ]. It places patients in one of four categories based on how much they are limited during ordinary physical activity (Table 3). \n",
            " The 6-minute walk test has been used successfully to measure the effectiveness of therapy and risk stratification in heart failure and PH. This test is indicative of an individual’s ability to perform activities of daily living [ <xref ref-type=\"bibr\" rid=\"ref29 ref30\">29,30</xref> ]. The 6-minute walk test has demonstrated reproducibility in a spectrum of patients with chronic cardiopulmonary disease [ <xref ref-type=\"bibr\" rid=\"ref30 ref31 ref32 ref33 ref34\">30-34</xref> ]. The coefficient of variance has been reported at &lt;10% [ <xref ref-type=\"bibr\" rid=\"ref30 ref32\">30,32</xref> ]. As a result, the 6-minute walk test has been accepted by regulatory agencies and is most commonly used as a primary endpoint in randomized clinical trials of PAH-specific therapy [ <xref ref-type=\"bibr\" rid=\"ref33\">33</xref> ]. Reference equations for estimating 6-minute walk distance in healthy men and women are based on height, age and weight. In PAH, the distance walked significantly decreases with worsening NYHA/WHO functional class and has been independently related to mortality in PAH by multivariate analysis [ <xref ref-type=\"bibr\" rid=\"ref35\">35</xref> ]. The 6-minute walk test will be performed in accordance with standard practice. Each participant will walk along a measured pathway with pulse oximetry and heart rate monitoring. Blood pressure, oxygen saturation, heart rate and a modified Borg dyspnea index will be recorded at baseline, upon completion of the test, and during recovery. \n",
            " Parameters obtained during cardiopulmonary exercise testing, peak oxygen uptake (peak VO2) and the slope of ventilation to carbon dioxide production during exercise (VE/VCO2) have been well established as powerful prognostic indicators in chronic heart failure. In patients with IPAH, cardiopulmonary exercise testing demonstrated that strong predictors of impaired survival were low peak VO2 and low systolic blood pressure at peak exercise [ <xref ref-type=\"bibr\" rid=\"ref36\">36</xref> ]. Patients with peak VO2 ≤10.4 ml/kg/min and peak systolic blood pressure ≤120 mmHg had poor survival rates at 12 months (23%) compared to patients with one or neither of these risk factors (79% and 97% respectively). \n",
            "All participants will undergo symptom-limited treadmill exercise testing using a modified Naughton protocol (Table 4). This protocol is designed to gently increase work by limiting each stage increase to approximately one metabolic equivalent (3.5 ml/kg/min VO2). The following will be recorded: exercise duration; heart rate, systemic blood pressure and pulse oximetry at the start of the exercise, at the end of each 2-minute stage of the exercise protocol, and immediately after cessation of exercise; and oxygen consumption and carbon dioxide production using breath-by-breath analysis of expired gas (Sensor Medics Horizons MMC, Anaheim, CA, USA) with each 15 seconds of data averaged. Any individual unable to complete the cardiopulmonary exercise testing but otherwise willing to 1 2 3 4 5 6 7 8 9 10 Table 4 Modified naughton protocol for exercise testing Stage Time (minutes) MPH % Incline METS 0 (rest/recovery) 1:00 1.0 0.0 1.8 MET, metabolic equivalent (3.5 ml/kg/min VO2); MPH, miles per hour. K &lt;5.3 mEq/L ** and Cr unchanged or &lt;50% of baseline\n",
            "Day 0 Start study drug\n",
            "Week 1\n",
            "Labs Continue current dose Week 6 labs Study drug dose remains unchanged if K &lt;5.3 mEq/L ** and Cr unchanged or &lt;50% of baseline K &lt;5.0 mEq/L and Cr unchanged or &lt;50% of baseline Continue current dose Week 9 labs Week 12\n",
            "labs Week 16\n",
            "labs Week 20\n",
            "labs Week 24 labs\n",
            "Weeks 7-9: Dose increased\n",
            "Weeks 7-9:\n",
            "Dose unchanged K 5.3 mEq/L*\n",
            "See\n",
            "Figure 3\n",
            "K 5.3 mEq/L* 5.0 K &lt; 5.3mEq/L** and Cr unchanged or &lt;50% of baseline\n",
            "Continue current dose Week 9 labs Week 12\n",
            "labs Week 16\n",
            "labs Week 20\n",
            "labs Week 24 labs 2:00 2:00 2:00 2:00 2:00 2:00 2:00 2:00 2:00 2:00\n",
            "Study drug dose remains unchanged if K &lt;5.3 mEq/L ** and Cr unchanged or &lt;50% of baseline 2.0 2.0 2.0 2.0 2.0 2.0 2.6 3.0 3.4 3.7 0.0 3.5 7.0 10.5 participate in the protocol will remain eligible and their data will be included in any final analyses of the portions of the protocol that they completed.\n",
            " Echocardiograms will be performed according to standard American Society of Echocardiography criteria using commercially available ultrasound machines. Images will be recorded and saved on an online server. If technically possible, multiple views will be recorded including the parasternal long- and short-axis views, the apical two- and four-chamber views, and the subcostal views. Cardiac chamber sizes will be assessed from multiple views. RV outflow tract flow will be assessed with the sample volume positioned immediately below the pulmonic valve in the parasternal short-axis view with pulse wave and continuous wave Doppler. Analysis of the pulsed wave Doppler signal in the RV outflow tract will allow for measurement of the velocity time integral (surrogate of stroke volume), time to peak velocity (acceleration time) and for categorization of the basic morphology of the Doppler signal (no notch, late systolic notch, mid-systolic notch) [ <xref ref-type=\"bibr\" rid=\"ref37\">37</xref> ]. The RV diastolic diameter will be measured 1 cm apical of the tricuspid annulus from the apical four-chamber view. The LV diastolic diameter will also be assessed 1 cm apical of the mitral annulus from the apical four-chamber view. RV end-diastolic dimension can thus be expressed as an absolute value and in relation to LV end-diastolic dimension (RV:LV dimension ratio). Atrial areas will be measured in the same view by planimetry at end-systole. Color Doppler will be used to assess the degree of tricuspid regurgitation in multiple views. The highest right atrial to right ventricular gradient from continuous wave Doppler will be used as an estimate of RV systolic pressure. The spectral jets of tricuspid and mitral regurgitation with continuous wave Doppler will be used for measurement of dP/dt. If technically feasible, subcostal views will be used to assess inferior vena cava size and response to respiratory maneuvers. Tricuspid annular plane systolic excursion will be measured using either M-mode imaging or twodimensional imaging from the apical four-chamber view [ <xref ref-type=\"bibr\" rid=\"ref38\">38</xref> ]. Tissue Doppler imaging will be used for assessment of LV and RV systolic and diastolic performance. Tissue velocity data will be used to derive strain and strain rate measurements for assessment of ventricular systolic and diastolic performance. \n",
            " Assessment of RV structural and functional remodeling remains a fundamental aspect of PAH diagnosis and follow-up [ <xref ref-type=\"bibr\" rid=\"ref39\">39</xref> ]. Echocardiography is currently the most commonly used diagnostic tool for these assessments, however, it suffers from many limitations such as limited viewing angles, low signal-to-noise ratio and a low frame rate [ <xref ref-type=\"bibr\" rid=\"ref40\">40</xref> ]. Moreover, only longitudinal contraction has been investigated, which represents strain in only one direction and is prone to inaccurate measurements of the RV due to its complex crescent shape [ <xref ref-type=\"bibr\" rid=\"ref40 ref41\">40,41</xref> ]. RV imaging using MRI has recently gained interest because of the quality and quantity of data obtained with this technique. Unfortunately, assessing changes in global RV structure as well as local contractility still pose difficulties for currently used MRI techniques. Some of these limitations include low functional resolution and prohibitively long image acquisition times in order to obtain three-dimensional contractility data. Our collaborators have recently developed fast MRI techniques for quantification of three-dimensional myocardial strain from single slices [ <xref ref-type=\"bibr\" rid=\"ref42 ref43\">42,43</xref> ], and for high functional resolution imaging. These new techniques address previous limitations and may allow for a more accurate assessment of RV structural and functional changes and how they evolve with disease progression. \n",
            " In addition to developing more sophisticated MRI techniques of assessing the RV in patients with PAH, there may also be an important role for using MRI to follow pulmonary artery endothelial function over time and in response to therapy. Currently, much of the interpretation for the role of endothelial function in underlying disease states is based on studies of either peripheral vessel dynamic vasomotor function, which only modestly correlates with that of the main arteries [ <xref ref-type=\"bibr\" rid=\"ref44 ref45 ref46\">44-46</xref> ], or using invasive angiography with Doppler flow measures. MRI is another method of non-invasively assessing arterial cross-sectional area and flow velocity, however, it has been rarely used for endothelial-dependent vasomotor responses [ <xref ref-type=\"bibr\" rid=\"ref47 ref48\">47,48</xref> ]. Utilizing newer MRI methods, it is now possible to quantify pulmonary arterial vasoreactivity as a surrogate for pulmonary artery endothelial function. \n",
            " The MRI sequence protocol includes global measures, such as end-diastolic and end-systolic RV/LV volume and RV/LV ejection fractions; local measures, such as RV systolic and diastolic peak longitudinal strain and strain rates and three-dimensional regional contractility (strain) analysis; and vasomotor responses. To assess endothelial-dependent vasomotor responses, each participant will be asked to perform the hand-grip exercise while arterial dimensions and blood flow measurements are obtained [ <xref ref-type=\"bibr\" rid=\"ref49 ref50\">49,50</xref> ]. Magnetic resonance data will be collected before, during and after hand-grip exercise. The vascular beds of interest include, but are not limited to, the coronary, brachial and pulmonary arteries. Exclusion criteria for MRI and gadolinium are listed in Table 5. Any individual unable to tolerate some or all of the MRI sequences included in the study but otherwise willing to participate in the protocol will remain eligible and their data will be included in any final analyses of the portions of the protocol that they completed. These contraindications include but are not limited to the following devices or conditions: \n",
            "Implanted cardiac pacemaker or defibrillator Cochlear Implants Ocular foreign body (for example, metal shavings) Embedded shrapnel fragments Central nervous system aneurysm clips Implanted neural stimulator Any implanted device that is incompatible with MRI Unsatisfactory performance status as judged by the physician such that the participant could not tolerate an MRI scan Participants requiring monitored sedation for MRI studies Participants with a condition precluding entry into the scanner (for example, morbid obesity, claustrophobia) Participants with severe back-pain or motion disorders who will be unable to tolerate supine positioning within the MRI scanner and hold still for the duration of the examination History of severe allergic reaction to gadolinium contrast agents despite pre-medication with diphenhydramine and prednisone Chronic kidney disease (estimated glomerular filtration rate of &lt;60 mL/min/1.73 m2 of body surface area) Exclusion criteria for gadolinium-based MRI studies only:\n",
            " Markers of endothelial dysfunction and neurohormonal assays will be measured using plasma aliquoted from a single 10 mL blood draw collected at the indicated time points (Additional file 1: Figure S1). NT-proBNP testing will be performed on a separate blood sample sent to the NIH Clinical Center Laboratory. A timed 8-hour (overnight) urine sample will be collected, the total volume recorded, and 50 mL will be saved for further processing. Following centrifugation, urine sample aliquots will be stored at −80°C [ <xref ref-type=\"bibr\" rid=\"ref51\">51</xref> ]. Plasma and urine aliquots for neurohormonal testing will be shipped to the University of Pennsylvania for further processing. \n",
            " cells using Affymetrix GeneChipW Microarrays PBMCs have repeated contact with the altered endothelial cell surface in PAH and therefore may harbor unique signatures that are indicative of the disease process [ <xref ref-type=\"bibr\" rid=\"ref52 ref53 ref54\">52-54</xref> ]. In a recent pilot study comparing PBMC expression profiles from 10 patients with PAH with 10 age-, genderand race-matched controls, we identified 321 differentially regulated genes at a 20% false discovery rate. IngenuityW Pathway Analysis (IngenuityW Systems, Redwood, CA, USA) identified gene signatures for inflammation, cell-to-cell signaling and interaction, cytoskeletal rearrangement, cellular movement, hemostasis, and cell death [ <xref ref-type=\"bibr\" rid=\"ref55\">55</xref> ]. To determine the effects of spironolactone therapy on PBMC gene expression in patients with PAH, we will compare changes in expression profiles at 12 and 24 weeks from baseline (obtained under our Natural History Study) between the treatment and placebo groups. \n",
            "Blood specimens will be encoded to ensure patient confidentiality. No gene expression information with patient identifiers will be placed in the medical chart or in public records. Total RNA will be isolated, precipitated and quantified. Once total RNA is prepared, samples can be safely stored for an additional year. If longer storage of RNA samples is necessary, a commercially available methodology can be used to safely store total RNA at −80°C for up to 10 years. Total RNA isolated from the patient’s PBMCs will be hybridized to Affymetrix GeneChipW Human Gene 2.0 ST Arrays (AffymetrixW, Santa Clara, CA, USA). Expression profile results will be used to direct confirmatory testing using quantitative real-time polymerase chain reaction (PCR).\n",
            " Previous reports have used microarray analysis to PBMCs [ <xref ref-type=\"bibr\" rid=\"ref52 ref53 ref54\">52-54</xref> ] and lung tissue [ <xref ref-type=\"bibr\" rid=\"ref56 ref57\">56,57</xref> ] from patients with PAH, however a focused investigation of PAH plasma effects on primary human pulmonary artery endothelial cells (PAECs) has not been previously reported to our knowledge [ <xref ref-type=\"bibr\" rid=\"ref58\">58</xref> ]. Plasma (from 60 mL of whole blood) will be collected from participants in sterile, endotoxin-free syringes containing heparin. Samples will be collected at baseline (under the Natural History Study) and upon study completion at 24 weeks. This plasma will be used to explore the effects of circulating mediators on PAEC gene expression. We have developed a bioassay assessing global transcriptomic changes in PAECs induced by plasma from patients with PAH compared to healthy controls using AffymetrixW oligonucleotide microarrays. In addition to naive cells, plasma may be tested on PAECs exposed to inflammatory challenges and/or rendered ‘dysfunctional’ (bone morphogenetic protein receptor 2 gene silencing or Smad dominant negative mutant expression with or without endothelial nitric oxide synthase gene silencing). Candidate genes will be confirmed by quantitative real-time PCR. Gene expression changes will be correlated with pulmonary artery endothelial function assessed in vivo by MRI as well as with traditional measurements of disease severity, including NYHA/WHO class and 6-minute walk. Remaining stored plasma may later be tested for circulating factors such as microRNAs, cytokines, chemokines or other circulating mediators for correlation with expression profiling results. \n",
            " Previous studies have examined the effects of PAH-specific therapy on time to clinical worsening, exercise capacity and endothelial inflammation in patients with PAH [ <xref ref-type=\"bibr\" rid=\"ref59 ref60 ref61 ref62 ref63\">59-63</xref> ]. Moreover, the effects of spironolactone on endothelial dysfunction have been examined in diverse non-PAH patient populations [ <xref ref-type=\"bibr\" rid=\"ref19 ref20 ref21 ref22 ref23\">19-23</xref> ]. However, no prior randomized controlled trials have been completed that report on the effects of spironolactone treatment in patients with PAH. Assuming that a subset of the participants with PAH may discontinue study drug or otherwise not be able to complete the study, we plan to enroll up to 70 participants with PAH to obtain at least 50 completed studies. The participants will be randomized in a 1:1 ratio to spironolactone therapy or placebo. At a two-sided α level of 0.05, we will have at least 84% power to detect an effect size (group mean difference divided by standard deviation) of 0.9 for the difference in the change of 6-minute walk distance from baseline between the two treatment groups [ <xref ref-type=\"bibr\" rid=\"ref61\">61</xref> ]. \n",
            "Participant characteristics will be summarized using contingency tables (for categorical variables), means and standard deviations for continuous variables that are approximately normally distributed (transformed if needed) or median and inter-quartile range for continuous variables that are not normal.\n",
            "For the primary endpoints, changes in 6-minute walk distance (24 weeks versus baseline) will be compared between the two groups using linear mixed models (LMMs), Kaplan-Meier curves will be plotted to show the time to clinical worsening, and a log-rank test will be used to compare the two arms. Chi-squared tests or Fisher exact tests, t-tests or Wilcoxon rank-sum tests will be used to compare variables between the two arms when appropriate. The rates of study drug discontinuation between the two arms will be compared using the Fisher exact test, and a logistic regression will be considered to account for potential confounders if the two arms are imbalanced. The causes of discontinuation will be tabulated and compared if appropriate.\n",
            "For secondary endpoints, LMMs will be used to assess the effect of spironolactone therapy on changes in VO2 maximum (24 weeks versus baseline), plasma markers of endothelial inflammation, sex hormone levels, and on activation of the renin-angiotensin-aldosterone and sympathetic nervous systems, as well as RV function as assessed by echocardiography, MRI and NT-proBNP. Random participant effect will be included to account for repeated measures within each participant over time. Transformations (for example, log-transformation) will be considered to stabilize variance. Standard residual diagnostics will be used to assess model assumption. VO2 maximum data may not be available for all participants. Based on the recent experience of the NHLBI pulmonary function laboratory at the NIH Clinical Center, approximately 5% to 10% of research participants have been unable to complete cardiopulmonary exercise testing or had incomplete data. We will collect information about the reason for missing VO2 maximum data. If the missing data can be considered ‘missing at random’ (for example, due to personal preference, orthopedic issues, inability to tolerate the mouthpiece or facemask), LMM is appropriate. For potentially informative missing data (for example, a participant is too sick to complete the procedure), to be conservative, a minimum value will be used for participants in the spironolactone group, and a last-observation-carryforward approach will be used in the control group. The proportions of participants in the two treatment groups that have no VO2 maximum data will also be compared.\n",
            "Samples and their corresponding results will be subjected to strict quality control standards to assure that specimens are processed in balanced batches, to minimize the lot and reagent batch effects. Raw data will be background corrected, transformed, quantile normalized and summarized using the robust multi-array average technique. A principal components analysis will be computed to assist with recognizing outlying microarrays, which, along with other quality control indicators, may lead to rejection or re-analysis of some samples. LMM will be used to compare the PBMC gene expression profiles between the two treatment groups at each time point after accounting for repeated measures of each patient. Gene selection will be based on calculated false discovery rate to control the number of false positive findings.\n",
            "Significant genes from these analyses will be annotated using automated tools, and a literature search will be performed for relevant information relating to the set of significant results. Significantly over-represented terms from formal ontologies, such as GeneOntology using the Database for Annotation, Visualization and Integrated Discovery, will be reported. Additional bioinformatics tools such as, IngenuityW Pathway Analysis (IngenuityW Systems) will be used in the annotation step.\n",
            "As a safeguard, at the time of enrollment each patient will be asked to identify a primary responsible physician who will be notified of the patient’s enrollment and, therefore, will be aware of the potential development of hyperkalemia or renal insufficiency during the course of the study. Serum potassium, blood urea nitrogen and creatinine will be measured one week after initiating therapy or a dose increase and then serially thereafter according to the pre-specified schedule (Figure 1 and Additional file 1: Figure S1). For laboratory monitoring of serum potassium, blood urea nitrogen and creatinine on day 7, week 6, week 9, week 16 and week 20 (±7 days), participants will be given laboratory requisition slips for sample collection at an outside facility near their home (Additional file 1: Figure S1). Participants will be instructed to have their samples drawn within 7 days of the specified time point. Those participants who wish to return to the NIH Clinical Center to have these samples drawn may do so instead of going to an outside facility. For laboratory monitoring of serum potassium, blood urea nitrogen and creatinine at week 12 and week 24, samples will be collected along with other research samples at the time of the NIH Clinical Center visit (Additional file 1: Figure S1). In the event that specimens are reported as hemolyzed, participants will be instructed to repeat their sample draw within 7 days of their previous sample. In the event that any scheduled laboratory monitoring is delayed for &gt;7 days, participants will be instructed to stop the study drug and will be removed from the protocol.\n",
            "If while on therapy a patient’s serum potassium level increases to 5.3 to 5.9 mEq/L, the study drug will be stopped and their serum potassium level will be checked again within 24 to 48 hours (Figure 2). At the study investigators’ discretion, any participant with a potassium level ≥5.3 mEq/L can be referred for medical evaluation at the nearest health care facility. If the repeat serum potassium is &lt;5.3 mEq/L, then the study drug will be resumed at the previous dose and serum potassium measurement will be repeated again 72 to 96 hours later, and then weekly for two weeks, followed by resumption of the normal monitoring schedule as long as the serum potassium remains &lt;5.3 mEq/L. If the serum potassium remains ≥5.3 mEq/L on two consecutive blood draws, the study drug will be discontinued. Delay in laboratory monitoring longer than 48 hours from the specified time frame in participants with a serum potassium of ≥5.3 mEq/L will result in that patient being removed from the protocol. If at any time the serum potassium is ≥6.0 mEq/L (Figure 2), the study drug will be discontinued and the participant will be referred to the nearest health care facility where standard treatment for hyperkalemia can be provided. In these participants, the study drug will not be restarted and they will be removed from the protocol. If while on the study drug a participant’s serum creatinine increases &gt;50% then the study drug will be discontinued and the participant will be removed from the protocol. Prior to initiation of the study drug and throughout the trial during follow-up visits, participants will be asked about the presence of breast pain and, in male participants, the development of gynecomastia.\n",
            "Throughout testing, all participants will be monitored by a respiratory therapist or a pulmonary function technician with pulse oximetry. The test will be terminated if the participant develops limiting clinical symptoms including but not limited to significant fatigue, shortness of breath, leg discomfort and dizziness.\n",
            " All participants will be accompanied by a pulmonary function technician and a licensed practitioner and will be monitored by continuous pulse oximetry and electrocardiography (ECG). Exercise testing will not be performed in participants with absolute contraindications to exercise testing according to American College of Cardiology/American Heart Association guidelines, which include the following: acute myocardial infraction (within 2 days), high-risk unstable angina, uncontrolled cardiac arrhythmias causing symptoms or hemodynamic compromise, symptomatic severe aortic stenosis, uncontrolled symptomatic heart failure, and acute aortic dissection. Determination of test termination will be based on published guidelines (Table 6) [ <xref ref-type=\"bibr\" rid=\"ref64\">64</xref> ]. In addition, the test will be terminated regardless of symptoms if both of the following two conditions are met: pulse oximetry decreases by &gt;5% from baseline and pulse oximetry value &lt;90%. \n",
            "MRI scans are expected to last 30 to 60 minutes but may get prolonged to 90 minutes in some cases. Scans are monitored by a technologist supervised by a physician or by a physician with the support of a second health care professional. Monitoring typically includes continuous ECG, intermittent non-invasive blood pressure, and pulse oximetry as indicated. Participants may elect to terminate the imaging protocol at any time.\n",
            "MRI studies will be monitored in the following ways: direct visual and auditory contact with the participant by a nurse, nurse practitioner or physician in the MRI suite; indirect visual contact via a video camera output displayed over the MRI scan control console; two-way microphone system between the participant and the operator of the MRI scan control console; continuous display of the ECG; and intermittent non-invasive measurement of blood pressure.\n",
            "PAH is a progressive disease and therefore clinical worsening may occur in participants during the protocol, irrespective of their treatment group assignment. Individual stopping rules for participants enrolled in the protocol include: 1. If a participant develops clinical evidence of right heart failure (which may include but is not limited K 5.3* mEq/L and Cr unchanged or &lt;50%\n",
            "of baseline K 5.3 mEq/L but\n",
            "&lt;6.0 mEq/L** Stop study drug\n",
            "Repeat labs within 24 to 48 hours K&lt;5.3 mEq/L\n",
            "Resume study drug at previous\n",
            "dose Repeat labs within 72 to 96 hours Continue study drug Repeat\n",
            "labs weekly ×2 Resume normal monitoring schedule K &lt;5.3 mEq/L K &lt;5.3 mEq/L\n",
            "K 5.3 mEq/L Stop study drug, participant is removed from the study and\n",
            "laboratory monitoring is repeated every 24 to 48 hours\n",
            "until K &lt;5.5 mEq/L K 5.3 mEq/L\n",
            "K 5.3 mEq/L K 5.3 mEq/L\n",
            "K 6.0 mEq/L Stop study drug and\n",
            "participant is removed from the\n",
            "study\n",
            "Participant referred to their nearest health care facility and\n",
            "treated for hyperkalemia according to standard clinical practice to elevated jugular venous pressure, ascites and lower extremity edema) as determined by the patient’s primary physician or the investigators, then the participant will be removed from the protocol and treated for decompensated right heart failure according to standard of care. 2. If a participant deteriorates clinically, even in the absence of overt right heart failure, and the primary treating physician or the investigators feel that the addition of a MR antagonist such as spironolactone or eplerenone is clinically indicated then the participant will be removed from the study. 3. If a participant has more than one episode of serious hyperkalemia (potassium ≥5.3 mEq/L) or one episode of severe hyperkalemia (potassium ≥6.0 mEq/L), the study drug will be discontinued and the participant will be removed from the protocol. 4. If a participant develops renal insufficiency (rise in serum creatinine &gt;50% of baseline) while on protocol, then the study drug will be discontinued and the participant will be removed from the protocol. 5. In the event that testing for serum potassium, blood urea nitrogen and creatinine is delayed for &gt;7 days, the participant will be instructed to stop the study drug and will be removed from the protocol. 6. In any participant with a serum potassium level ≥ 5.3 mEq/L, a delay in laboratory monitoring longer than 48 hours from the specified time frame will result in removal from the protocol. 3. Increasing nervous system symptoms (ataxia, dizziness, or near-syncope) 4. Signs of poor perfusion (cyanosis or pallor) 5. Technical difficulties in monitoring ECG or systolic blood pressure 6. Participant’s desire to stop 7. Sustained ventricular tachycardia 8. ST elevation (≥ 1.0 mm) in leads without diagnostic Q-waves (other than V1or aVR) Relative indications 1. Decrease in systolic blood pressure &gt;10 mmHg from baseline,\n",
            "in the absence of evidence of ischemia 2. ST or QRS changes such as excessive ST-depression (&gt;2 mm of horizontal or down-sloping ST-segment depression) or marked axis shift 3. Arrhythmias other than sustained ventricular tachycardia, including multifocal PVCs, triplets of PVCs, supraventricular tachycardia, heart block, or bradyarrhythmias 4. Fatigue, shortness of breath, wheezing, leg cramps or claudication 5. Development of bundle-branch block or IVCD that cannot be\n",
            "distinguished from ventricular tachycardia 6. Increasing chest pain 7. Hypertensive responsea aIn the absence of definitive evidence, the committee suggests systolic blood pressure of &gt;250 mmHg and/or a diastolic blood pressure of &gt;115 mmHg. ECG, electrocardiography; IVCD, intraventricular conduction delay; PVCs, premature ventricular contractions.\n",
            "7. If while on study drug a participant develops significant breast pain or gynecomastia then the study drug will be discontinued and the participant will be removed from the protocol.\n",
            "Due to the fact that this protocol is designed as a pilot study of spironolactone therapy, we have not set predetermined protocol stopping rules for clinical efficacy. However, as described above, the occurrence of excess life-threatening or serious adverse events (such as severe hyperkalemia or renal insufficiency) is possible and the frequency and distribution of these events in each treatment group will be monitored closely. Serious adverse events and unexpected adverse events will be reviewed with the help of the Data Safety and Monitoring Board (DSMB) to determine the relationship of these events to the current protocol.\n",
            "Criteria for exclusion or withdrawal from the study are based on the presence of other disease processes that may interfere with the interpretation of our results or situations that may be harmful to the participants. Individuals of both genders and all races will be considered for inclusion in this study. Cognitively impaired and institutionalized persons unable to provide written informed consent will not participate in this study.\n",
            " Children under the age of 18 will be excluded from this protocol because of differences between adults and children with regards to functional classification and exercise capacity at the time of PAH diagnosis [ <xref ref-type=\"bibr\" rid=\"ref65\">65</xref> ]. In addition, a substantially higher proportion of pediatric patients demonstrate acute vasoreactivity at the time of right heart catheterization compared to adults [ <xref ref-type=\"bibr\" rid=\"ref65\">65</xref> ]. These differences would add additional heterogeneity to the study population and therefore could potentially obscure the effects of the study drug on exercise capacity, clinical worsening, RV function and vascular inflammation. \n",
            "Because of potential adverse effects on the fetus, pregnant participants will be excluded from the study. In addition, women of childbearing potential must agree to use adequate contraception (hormonal, barrier method of birth control, or abstinence) prior to and for the duration of study participation. Female participants with childbearing potential will be regularly assessed throughout the study. In the event of a positive pregnancy test, the participant will be immediately informed of this result, the study drug will be discontinued, and the participant will be removed from the study.\n",
            " The most significant risks associated with spironolactone therapy include hyperkalemia, renal insufficiency, hypovolemia and gynecomastia with or without breast pain. In a large trial of patients with NYHA class III and IV LV heart failure (the mean dose of spironolactone was 26 mg and dose titration up to 50 mg daily), the incidence of severe hyperkalemia (&gt;6 mEq/L) was not significantly different between the spironolactone treatment group (2%) and placebo (1%) but the median potassium concentration did increase by 0.30 mmol/L in the spironolactone-treated group [ <xref ref-type=\"bibr\" rid=\"ref15\">15</xref> ]. The median creatinine concentration also increased (0.05 to 0.10 mg/dL) in the spironolactone-treated group. The risk of hyperkalemia while on spironolactone therapy is increased in the presence of renal insufficiency, concurrent use of ACE inhibitors or angiotensin receptor blockers, potassium-sparing diuretics or NSAIDs [ <xref ref-type=\"bibr\" rid=\"ref66\">66</xref> ]. Precautions that will be taken include: participants will be counseled to avoid foods high in potassium and to avoid concurrent use of NSAIDs; patients taking ACE inhibitors, angiotensin receptor blockers, or potassium-sparing diuretics will be excluded from the study; participants will undergo frequent monitoring of serum potassium, creatinine and blood urea nitrogen; cessation of the study drug when serum potassium ≥6 mEq/L or when it remains ≥5.3 mEq/L on two occasions; and cessation of the study drug when creatinine increases by &gt;50% of baseline value. \n",
            " Gynecomastia in men and painful breast enlargement in women may occur in participants treated with spironolactone and appear to be related to dose and duration of therapy [ <xref ref-type=\"bibr\" rid=\"ref67 ref68 ref69\">67-69</xref> ]. The Randomized Aldactone Evaluation Study reported incidences of gynecomastia and breast pain in 9% and 2% of spironolactone-treated patients, respectively. This was significantly different from placebo and led to discontinuation of the study drug in 2% of spironolactone-treated patients in this trial [ <xref ref-type=\"bibr\" rid=\"ref15\">15</xref> ]. In the majority of cases, gynecomastia and breast pain subside with cessation of the drug [ <xref ref-type=\"bibr\" rid=\"ref68 ref70\">68,70</xref> ]. Prior to initiation of the study drug and throughout the trial during follow-up visits, participants will be asked about the presence of breast pain and, in male patients, the development of gynecomastia. If while on the study drug a participant develops significant breast pain or gynecomastia then the study drug will be discontinued. Additional side effects reported with spironolactone therapy and related to its progesteronal and antiandrogenic activity include menstrual irregularities (amenorrhea, postmenopausal bleeding), decreased libido and erectile dysfunction [ <xref ref-type=\"bibr\" rid=\"ref67 ref68 ref69\">67-69</xref> ]. These also appear to be dose related and typically resolve upon drug cessation [ <xref ref-type=\"bibr\" rid=\"ref69 ref71\">69,71</xref> ]. \n",
            "Blood draws throughout the study are well within the NIH Clinical Center policy (that is, the amount of blood drawn for research purposes from participants 18 years of age or older will not exceed 550 mL or 10.5 mL/kg, whichever is smaller, over any eight-week period). Standard precautions for obtaining human blood samples will be taken. Transient discomfort and minor bruising may occur at the phlebotomy site. Vasovagal symptoms can occur during blood drawing.\n",
            "The risks associated with a symptom-limited six-minute walk are minimal.\n",
            "Exercise testing is a safe procedure with experienced personnel. Conduction abnormalities or atrial/ventricular arrhythmias may occur during the test, requiring institution of advanced cardiovascular life support. The participant could also develop ischemic symptoms requiring intensive care unit monitoring and treatment.\n",
            "There is no known risk from the ultrasound examination. The safety of echocardiography has been well established. Localized transient discomfort from the probe and irritation from the ultrasound gel may occur.\n",
            "MRI uses no ionizing radiation and is quite safe when performed on a properly screened population. Potential risks relate to the magnetic field’s effect on participants with implanted metal objects (such as cerebral aneurysm clips, cochlear implants). The magnetic field can cause twisting or movement of these objects thus causing harm to the patient. Also the radiofrequency power associated with MRI can potentially cause burns in patients with pacemakers or other implanted coiled wires. Participants will be screened for these objects and excluded as indicated. The scanner gradient performance (dB/dt limit) is set on an individual basis to avoid painful peripheral nerve stimulation. Precautions that will be taken include informing the participant of the possibility for peripheral nerve stimulation in the consent form; empirically using parameters that maintain gradient switching rates below the pain threshold; and audio feedback from the participant.\n",
            "The NIH MRI Unit adheres to the Food and Drug Administration guidelines for radiofrequency power levels (specific absorption rate limits). The MRI scanner is operated at the Food and Drug Administration limits established for MRI in general applications. However, in cases of a damaged or dysfunctional surface coil, there is a small chance of local warming in the body. For safety purposes, participants are asked to report this sensation so scans can be modified or the integrity of hardware verified.\n",
            " Participants may receive an intravenous injection of gadolinium chelate that is not to exceed 0.2 mmol/kg gadolinium per bolus injection and 0.4 mmol/kg gadolinium per examination. We will be adhering to the NHLBI polices regarding administration of gadolinium. Experience with a large number of patients has shown that these commercially available gadolinium chelates are safe [ <xref ref-type=\"bibr\" rid=\"ref72 ref73 ref74 ref75 ref76\">72-76</xref> ] and without side effects in the majority (&gt;98%) of patients. When side effects do occur, they are usually mild and transient. These include coldness in the arm during the injection, a metallic taste, headache and nausea. More severe reactions (shortness of breath, wheezing or hypotension) are extremely rare. More recently however, there have been reports of nephrogenic systemic fibrosis or nephrogenic fibrosing dermopathy associated with the use of gadolinium in patients with severe renal dysfunction [ <xref ref-type=\"bibr\" rid=\"ref77\">77</xref> ]. The risk of these occurrences should be minimized through the use of a questionnaire form and an assessment of eGFR in all participants. \n",
            "The principal investigator will monitor accrual and safety data as well as occurrence of any unusual or unpredicted complications. An independent DSMB established by the NHLBI will review symptom and outcome data at 6-month intervals to ensure participant safety and confirm that withdrawal criteria are observed. Study monitoring will be conducted by an outside consultant working under an agreement with the NHLBI to monitor aspects of the study in accordance with the appropriate regulations and the approved protocol. Stopping rules and withdrawal criteria have been established to ensure participant safety during the study. The DSMB may recommend early termination of the study for considerations of safety and efficacy. Accrual and safety data will also be monitored and reviewed annually by the Institutional Review Board.\n",
            "The principal investigator will be responsible for overseeing entry of data into a password-protected electronic system and ensuring data accuracy, consistency and timeliness. On all study documents, participants will be identified by a participant number assigned at enrollment, and will not be identified by name. Data will be stored in locked cabinets and in a password-protected database until it is no longer of scientific value. Should we become aware that a major breech in our plan to protect patient confidentiality and trial data has occurred, the Institutional Review Board will be notified.\n",
            "Adverse events reported under this protocol will be limited to those events that are possibly, probably or definitely related to the research described in this protocol.\n",
            "Unanticipated problems that are either adverse events or non-adverse events will be reported within 7 calendar days of investigator awareness. The following items will also be reported to the NHLBI Institutional Review Board in summary at the time of Continuing Review: all unanticipated problems; any protocol-specific reporting requirements; and all protocol deviations, which in the opinion of the investigator require reporting.\n",
            "Currently no published data exists from randomized clinical trials examining the safety and efficacy of MR antagonist therapy in early stages of PAH. Initiating therapy with spironolactone at an earlier stage of disease may improve PAH-associated vascular inflammation. This protocol describes the rationale, design and methodology of a randomized, double blinded, placebo-controlled pilot study in patients with PAH investigating the effect of early treatment with spironolactone on exercise capacity, clinical worsening and vascular inflammation in vivo.\n",
            "We are in the recruiting phase.\n",
            "Additional file 1: Figure S1. Time and events schedule.\n",
            "Abbreviations ACE: angiotensin-converting enzyme; Cr: creatinine; DSMB: Data Safety and Monitoring Board; ECG: electrocardiography; eGFR: estimate glomerular filtration rate; HIV: human immunodeficiency virus; IL-1β: interleukin-1 beta; IL1RL1: interleukin-1 receptor-like 1; IL-6: interleukin-6; IL-7: interleukin-7; IL8: interleukin-8; IPAH: idiopathic pulmonary arterial hypertension; IVCD: intraventricular conduction delay; K: potassium; labs: laboratory tests; LMM: linear mixed model; LV: left ventricular; MCP-1: monocyte chemotactic protein-1; MET: metabolic equivalent, MPH, miles per hour; MR: mineralocorticoid receptor; MRI: magnetic resonance imaging; NFκB: nuclear factor kappa B; NHLBI: National Heart, Lung, and Blood Institute; NIH: National Institutes of Health; NR: nuclear receptor; NSAIDs: nonsteroidal anti-inflammatory drugs; NT-proBNP: N-terminal probrain natriuretic peptide; NYHA: New York Heart Association; PAECs: pulmonary artery endothelial cells; PAH: pulmonary arterial hypertension; PBMCs: peripheral blood mononuclear cells; PCR: polymerase chain reaction; PH: pulmonary hypertension; PVCs: premature ventricular contractions; RNA: ribonucleic acid; RV: right ventricular; sCD40L: soluble CD40 ligand; sICAM-1: soluble intercellular adhesion molecule 1; sVCAM1: soluble vascular cell adhesion molecule 1; TNFα: tumor necrosis factor alpha; VCO2: carbon dioxide production; VE: ventilation; VO2: oxygen uptake; WHO: World Health Organization.\n",
            "Competing interests The authors declare that they have no competing interests.\n",
            "Authors’ contributions JME, RLD and MAS contributed to the conception and design of the protocol and drafted the initial manuscript. JER, PRF, MKH, JS, AG, KA, GG, and BH made contributions to the conception and design of the trial and critically revised the manuscript for important intellectual content. All authors read and approved of the final manuscript.\n",
            "Acknowledgements The funding for this study is from the NIH Office of Research on Women’s Health (2011 Bench to Bedside Award; $270,000 over two years), as well as intramural funding from the Critical Care Medicine Department, NIH Clinical Center. We are grateful for the support and assistance of Judith Welsh (NIH Clinical Center biomedical librarian), Judith Starling (pharmacist) and the Pharmaceutical Development Section of the NIH Clinical Center Pharmacy. USA. 3National Institutes of Health, Biomedical and Metabolic Imaging Branch, National Institute of Diabetes and Digestive and Kidney Diseases, 10 Center Drive, MSC 1662, Bethesda, MD 20892, USA. 4National Institutes of Health, Cardiovascular and Pulmonary Branch, National Heart, Lung and Blood Institute, 10 Center Drive, Bethesda, MD 20892, USA."
          ]
        }
      ]
    },
    {
      "cell_type": "code",
      "source": [
        "# Checking re naming file works:\n",
        "output_dir = \"drive/MyDrive/LAG/Articles_Parsed/temp/\"\n",
        "filename = \"test.xml\"\n",
        "filename = (os.path.basename(filename).split('.')[0])\n",
        "with open(os.path.join(output_dir, f'{filename}.txt'), 'w') as x:\n",
        "    x.write('\\n'.join(' '.join(map(str, row)) for row in clean_paragraphs))\n",
        "  "
      ],
      "metadata": {
        "id": "-8QJt65s-TP6"
      },
      "execution_count": 32,
      "outputs": []
    },
    {
      "cell_type": "code",
      "source": [
        "!cat drive/MyDrive/LAG/Articles_Parsed/temp/test.txt"
      ],
      "metadata": {
        "colab": {
          "base_uri": "https://localhost:8080/"
        },
        "id": "8NgNfLmJ-v-w",
        "outputId": "360b06a3-fec5-4fba-b7d6-5fa977a16015"
      },
      "execution_count": 34,
      "outputs": [
        {
          "output_type": "stream",
          "name": "stdout",
          "text": [
            "Background: Pulmonary arterial hypertension is a rare disorder associated with poor survival. Endothelial dysfunction plays a central role in the pathogenesis and progression of pulmonary arterial hypertension. Inflammation appears to drive this dysfunctional endothelial phenotype, propagating cycles of injury and repair in genetically susceptible patients with idiopathic and disease-associated pulmonary arterial hypertension. Therapy targeting pulmonary vascular inflammation to interrupt cycles of injury and repair and thereby delay or prevent right ventricular failure and death has not been tested. Spironolactone, a mineralocorticoid and androgen receptor antagonist, has been shown to improve endothelial function and reduce inflammation. Current management of patients with pulmonary arterial hypertension and symptoms of right heart failure includes use of mineralocorticoid receptor antagonists for their diuretic and natriuretic effects. We hypothesize that initiating spironolactone therapy at an earlier stage of disease in patients with pulmonary arterial hypertension could provide additional benefits through anti-inflammatory effects and improvements in pulmonary vascular function. Methods/Design: Seventy patients with pulmonary arterial hypertension without clinical evidence of right ventricular failure will be enrolled in a randomized, double-blinded, placebo-controlled trial to investigate the effect of early treatment with spironolactone on exercise capacity, clinical worsening and vascular inflammation in vivo. Our primary endpoint is change in placebo-corrected 6-minute walk distance at 24 weeks and the incidence of clinical worsening in the spironolactone group compared to placebo. At a two-sided alpha level of 0.05, we will have at least 84% power to detect an effect size (group mean difference divided by standard deviation) of 0.9 for the difference in the change of 6-minute walk distance from baseline between the two groups. Secondary endpoints include the effect of spironolactone on the change in placebo-corrected maximal oxygen consumption; plasma markers of vascular inflammation and peripheral blood mononuclear cell gene expression profiles; sympathetic nervous system activation, renin-angiotensin-aldosterone system activation and sex hormone metabolism; and right ventricular structure and function using echocardiography and novel high-resolution magnetic resonance imaging-based techniques. Safety and tolerability of spironolactone will be assessed with periodic monitoring for hyperkalemia and renal insufficiency as well as the incidence of drug discontinuation for untoward effects. Trial registration: ClinicalTrials.gov: NCT01712620\n",
            " The vascular injury-induced forms of pulmonary hypertension (PH), collectively referred to as pulmonary arterial hypertension (PAH), are distinct from other causes of PH such as left-sided heart failure, parenchymal lung disease with hypoxemia and chronic thromboembolic disease (Table 1) [ <xref ref-type=\"bibr\" rid=\"ref1\">1</xref> ]. Idiopathic pulmonary arterial hypertension (IPAH) is an unexplained form of PAH where the triggering insult to the endothelium is unclear. Several diseases may manifest PAH (referred to as disease-associated PAH) that is histopathologically identical to IPAH. The underlying process responsible for these primary diseases are thought to injure the pulmonary endothelium and ultimately lead to the development of PAH (Table 1.) [ <xref ref-type=\"bibr\" rid=\"ref1\">1</xref> ]. \n",
            " PAH is two to four times more common in woman with a mean age at diagnosis of 50.1 ±14.4 years, but it may occur at any age [ <xref ref-type=\"bibr\" rid=\"ref2\">2</xref> ]. Prior to recent advances in treatment, the median survival for all patients in the National Institutes of Health (NIH) registry was 2.8 years; the 1-, 3- and 5-year survivals were 68%, 48% and 34%, respectively [ <xref ref-type=\"bibr\" rid=\"ref3\">3</xref> ]. With the advent of epoprostenol therapy, the 1-, 3- and 5-year survivals for patients with IPAH has improved to 87%, 63% and 54%, respectively [ <xref ref-type=\"bibr\" rid=\"ref4\">4</xref> ], but mortality remains unacceptably high. Therefore, therapeutic approaches that modify the natural history of IPAH and disease-associated PAH have become a major focus. \n",
            " The initial mechanisms responsible for the development of IPAH and other forms of PAH remain incompletely understood. Independent of the inciting event, endothelial dysfunction appears to play a central role both in the pathogenesis and progression of PAH [ <xref ref-type=\"bibr\" rid=\"ref5 ref6\">5,6</xref> ]. Inflammation has been implicated as a driver of this dysfunctional endothelial phenotype, propagating cycles of injury and repair in genetically susceptible patients with IPAH and patients with disease-associated PAH [ <xref ref-type=\"bibr\" rid=\"ref7 ref8 ref9\">7-9</xref> ]. Histologic specimens from patients with IPAH reveal the presence of inflammatory cells, including macrophages and T- and B-lymphocytes, within classic plexiform lesions that are the hallmark of PAH [ <xref ref-type=\"bibr\" rid=\"ref10 ref7\">7,10</xref> ]. Independent of the effects on vascular remodeling, endothelial inflammation may directly impact right ventricular (RV) function [ <xref ref-type=\"bibr\" rid=\"ref11\">11</xref> ], possibly explaining the imperfect relationship between worsening RV function despite improvements in pulmonary vascular resistance in patients on standard therapy for PAH [ <xref ref-type=\"bibr\" rid=\"ref12\">12</xref> ]. \n",
            " Despite strong epidemiological evidence demonstrating a female predominance in PAH, the underlying mechanisms for this gender inequality are unclear [ <xref ref-type=\"bibr\" rid=\"ref13\">13</xref> ]. In recent animal models of PAH that simulate features of the human disease such as occlusive or angioproliferative pulmonary vascular beds with formation of plexiform lesions and endothelial disruption, female rats develop more severe PAH than males [ <xref ref-type=\"bibr\" rid=\"ref14\">14</xref> ]. The importance of sex hormone signaling in PAH suggests a potential therapeutic role for nuclear receptor (NR) ligands and their cognate receptors. The steroid hormone receptors, including estrogen receptor-α and -β, androgen receptor, glucocorticoid receptor, mineralocorticoid receptor (MR) and progesterone receptor, are a subgroup of the NR family of transcription factors. Our laboratory is interested in investigating anti-inflammatory NR pathways that specifically target the endothelium. \n",
            " MR antagonists have been widely used in patients with left-sided heart failure or left ventricular (LV) dysfunction post-myocardial infarction [ <xref ref-type=\"bibr\" rid=\"ref15 ref16\">15,16</xref> ]. The clinical benefit of MR antagonists in these patients has been linked to poorly characterized anti-inflammatory properties and less so to their better understood diuretic or natriuretic effects [ <xref ref-type=\"bibr\" rid=\"ref17 ref18\">17,18</xref> ]. Spironolactone, a combined MR and androgen receptor antagonist, improves endothelial dysfunction in patients with left-sided heart failure [ <xref ref-type=\"bibr\" rid=\"ref19 ref20 ref21\">19-21</xref> ], rheumatoid arthritis [ <xref ref-type=\"bibr\" rid=\"ref22\">22</xref> ], and in women with polycystic ovarian syndrome [ <xref ref-type=\"bibr\" rid=\"ref23\">23</xref> ], suggesting a possible mechanism for its clinical efficacy in these patient populations. One group has suggested that spironolactone interferes with NFκB signaling in human monocytes in a non-MR dependent manner, but the molecular basis for this conclusion has not been further clarified [ <xref ref-type=\"bibr\" rid=\"ref24 ref25\">24,25</xref> ]. In a recent study utilizing two different animal models of PH, MR antagonists demonstrated beneficial effects on aldosterone-induced pulmonary vascular remodeling, RV hypertrophy and oxidant stress [ <xref ref-type=\"bibr\" rid=\"ref26\">26</xref> ]. Current management of patients with severe PAH and New York Heart Association/World Health Organization (NYHA/WHO) class IV symptoms includes use of MR antagonists once clinical right heart failure has developed for their diuretic and natriuretic effects [ <xref ref-type=\"bibr\" rid=\"ref27\">27</xref> ]. Initiating therapy with spironolactone at an earlier stage of disease in patients with PAH is a novel approach to treatment and could provide benefits through anti-inflammatory mechanisms and improvements in endothelial function that might alter the natural history of PAH. To date, however, there have been no randomized clinical trials examining the safety and efficacy of MR antagonist therapy in PAH without right heart failure. In vitro data from our laboratory demonstrate that spironolactone suppresses NFκB-mediated inflammatory signaling in human endothelial cells (unpublished results). We are actively investigating the molecular mechanisms that mediate the anti-inflammatory activity of spironolactone and the relative contributions of MR, androgen receptor and progesterone receptor, as well as NRindependent effects. \n",
            "Patients with PAH (that is, Group 1 PH, Table 1) without RV failure on either no medical therapy or stable medical therapy for at least 4 weeks will be recruited to the NIH Clinical Center for a randomized, double-blinded, placebocontrolled study of early treatment with spironolactone to investigate the effect of treatment on exercise capacity, clinical worsening and vascular inflammation in vivo. In addition, safety and tolerability will be assessed with periodic monitoring for hyperkalemia, renal insufficiency and overall incidence of study drug intolerance relative to placebo.\n",
            "This study adheres to the principles of the Declaration of Helsinki and has been approved by the NIH Clinical Center Deputy Ethics Counselor and the National Heart, Lung, and Blood Institute (NHLBI) Institutional Review Board (12-CC-0211). Written informed consent will be obtained from all participants at the NIH Clinical Center prior to undergoing any testing or treatment described in this protocol. Most eligible patients will be referred from Pulmonary Hypertension Specialty Clinics. At the time of enrollment, each patient will be asked to identify a primary responsible licensed practitioner who will be notified of the patient’s enrollment and made aware of the potential development of adverse study drug effects (such as hyperkalemia and renal insufficiency) during the course of the trial. If a patient does not have a physician with expertise in PH, then they will either be referred to a physician with such expertise or they will be provided ‘standard of care’ therapy at the NIH. Eligibility will be based on information obtained from our Natural History Study and from any additional information provided by the referring physician. Participants must be at least 18 years of age and must be able to provide informed, written consent for participation in this study. There is no exclusion based on race or gender. Women of childbearing potential must agree to use adequate contraception prior to and for the duration of study participation.\n",
            "Eligible individuals are patients with PAH (that is, Group 1 PH, Table 1) without clinical evidence of RV failure receiving either no medical therapy or stable medical therapy for at least the past 4 weeks (defined as no new PAH-specific therapy, no change in the dose of current PAH-specific therapy and no change in NYHA/ WHO functional classification). The following parameters on right heart catheterization are required to meet the hemodynamic definition of PAH: mean pulmonary artery pressure of &gt;25 mmHg at rest, pulmonary capillary wedge pressure of ≤15 mmHg (or LV end-diastolic pressure ≤12 mmHg) and pulmonary vascular resistance of &gt;3 Wood units (240 dyn ⋅s ⋅cm-5). If clinically indicated at the time of enrollment, then a right heart catheterization will be performed at the NIH Clinical Center upon study entry. Exclusion criteria are as follows: 1. Patients with WHO Group 1 PH and evidence of right heart failure as defined by: a. NYHA/WHO class IV symptoms\n",
            "AND b. Echocardiographic evidence of severe RV dysfunction\n",
            "AND c. Clinical signs which may include, but are not limited to elevated jugular venous pressure, ascites, and lower extremity edema 2. Patients with WHO Group 1 PH and a prior diagnosis of cirrhosis with portal hypertension as evidenced by a history of ascites, hepatic encephalopathy and/or varices prior to enrollment. 3. Patients with WHO Group 1 PH and evidence of active infection. (Patients with HIV infection and two consecutive viral loads of &lt;500 on their most recent determinations in the past 12 months will be considered to have inactive infection.) 4. Patients with WHO Group 1 PH who have taken spironolactone or eplerenone within the last 30 days. 5. Known or suspected allergy to spironolactone. 6. Pregnant or breastfeeding women. 7. Age &lt;18 years. 8. Inability to provide informed written consent for participation in the study. 9. Chronic kidney disease defined as estimated glomerular filtration rate (eGFR) of &lt;50 mL/min/1.73 m2 of body surface area. (eGFR will be calculated using the isotope dilution mass spectrometry-traceable Modification of Diet in Renal Disease Study equation and corrected for body surface area as follows: eGFR = 175 × (serum creatinine in mg/dL)-1.154 × (age in years)-0.203 × [1.212 if African-American] × [0.742 if female].) 10. Serum potassium at the time of enrollment of &gt;5 mEq/L or current use of potassium-sparing diuretics, angiotensin-converting enzyme (ACE) inhibitors, angiotensin II receptor blockers or drospirenone-containing oral contraceptives.\n",
            "All participants will undergo baseline testing under our Natural History protocol and serial (12 and 24 weeks) testing under this protocol according to the schedules outlined in Additional file 1: Figure S1 (all time points are approximations, ±7 days). Following each interval assessment period (baseline, 12 and 24 weeks), patients will be discharged home under the care of their referring and/or primary physicians. During the study, participants are permitted to have other medications, including PAHspecific therapies, adjusted by their primary physician as clinically necessary.\n",
            "Our primary endpoint is the effect of spironolactone therapy on the change in placebo-corrected 6-minute walk distance at 24 weeks relative to baseline values and the incidence of clinical worsening in the spironolactone group compared to placebo. Clinical worsening will be defined as the addition of a new PAH-specific medication (a prostacyclin, an endothelin-1 receptor antagonist or a phosphodiesterase-5 inhibitor), dose or route escalation (that is inhaled prostacyclin changed to intravenous prostacyclin) of a current PAH-specific medication, development of right heart failure requiring hospitalization or an escalation in outpatient diuretic therapy (that is, initiation of a new diuretic or a dose escalation of current diuretic therapy), transplantation, or death.\n",
            "Secondary endpoints include effect of spironolactone therapy on exercise capacity, as measured by the change in placebo-corrected VO2 maximum at 24 weeks relative to baseline values; effect of spironolactone therapy on plasma markers of vascular inflammation (see Table 2) and peripheral blood mononuclear cell (PBMC) gene expression profiles, comparing changes from baseline between the treatment and placebo groups; effect of spironolactone therapy on sympathetic nervous system activation, renin-angiotensin-aldosterone system activation and sex hormone metabolism, comparing changes from baseline between the treatment and control groups (see Table 2); effect of spironolactone therapy on RV function as assessed by echocardiography, magnetic resonance imaging (MRI) and N-terminal pro-brain natriuretic peptide (NT-proBNP), comparing changes from baseline between the treatment and placebo groups; and safety and tolerability of spironolactone therapy as determined by the rate of study drug discontinuation due to hyperkalemia (serum potassium ≥5.3 mEq/L), renal insufficiency (serum creatinine rise &gt;50% of baseline), or other side effects such as breast pain and gynecomastia compared to placebo.\n",
            "The total duration of the treatment period will be 24 weeks. Treatment assignment will be double-blinded.\n",
            "Randomization will be computer-generated and participants will be stratified according to the cause of PAH (idiopathic, heritable, and drug or toxin-induced PAH versus disease-associated PAH) and NYHA/WHO classification (I or II versus III; see Table 3). Participants meeting eligibility criteria for enrollment will be randomized to either 25 mg of spironolactone or matching placebo once daily. The NIH Clinical Center Pharmaceutical Development Section will be compounding and monitoring study drug stability. Four different capsules will be prepared: spironolactone 25 mg and matching placebo, and spironolactone 50 mg and matching placebo. If the 25 mg dose of study drug is well tolerated, (that is, potassium remains &lt;5.0 mEq/L and serum creatinine does not increase &gt;50% from baseline at study entry) then the dose will be increased to 50 mg daily following week 6 laboratory monitoring (Figure 1).\n",
            "All participants will receive new study drug in the mail between weeks 7 and 9 of the study. Participants who are not eligible for the dose increase (Figure 1) will also receive new study drug but the dose will be unchanged.\n",
            "The 25 mg and 50 mg dosage formulations will each be a different colored capsule so that the participants and providers can easily discern them. Two different colormatched placebo capsules will be formulated as well.\n",
            "Study coordinators will contact participants and instruct them to begin the new study medication at the appropriate time. Participants will also be instructed to mail their old study medication bottles back to the NIH Clinical Center to avoid confusion with the new study drug.\n",
            "All participants randomized to either spironolactone or placebo will be counseled on avoiding foods high in potassium and avoiding concurrent use of nonsteroidal anti-inflammatory drugs (NSAIDs). The NIH Clinical Center Pharmacy conducted a formal drug-drug interaction Neurohormonal axis Sympathetic activation Epinephrine, norepinephrine, arginine vasopressin Renin-angiotensin-aldosterone system activation Renin activity, aldosterone, angiotensin II, NT-proBNP Sex hormone metabolism Androstenedione, dehydroepiandrosterone sulfate, free testosterone, estradiol, 2-methoxyestradiol, urine 2-hydroxyestradiol:16α-hydroxyestrone ratio Abbreviations: IL-1β, interleukin-1 beta; IL1RL1, interleukin-1 receptor-like 1; IL-6, interleukin-6; IL-7, interleukin-7; IL-8, interleukin-8; MCP-1, monocyte chemotactic protein-1; NT-proBNP, N-terminal pro-brain natriuretic peptide; sCD40L, soluble CD40 ligand; sICAM-1, soluble intercellular adhesion molecule 1; sVCAM-1, soluble vascular cell adhesion molecule 1; TNFα, tumor necrosis factor alpha. evaluation using MicromedexW (Truven Health Analytics Inc., Ann Arbor, MI, USA), Lexi-Interact™ (Lexi-Comp Inc., Hudson, OH, USA), the package insert for spironolactone, and a focused literature search. No significant interactions were found for spironolactone or any of the PAH-specific drug classes or for HIV antiretroviral therapy. However, phosphodiesterase-5 inhibitors and prostacyclin analogs may enhance the hypotensive effect of any class of antihypertensive medications.\n",
            "Patients taking potassium supplements at the time of screening will be eligible for enrollment if the primary treating physician and the study investigators believe that it is clinically safe to decrease the current dose or stop the supplement depending on the clinical situation.\n",
            "Potassium will be monitored frequently during this protocol and, if necessary, potassium supplementation can be resumed based on standard clinical practice.\n",
            "The modified NYHA/WHO functional classification provides a simple way of classifying the extent of functional\n",
            " Patients with pulmonary hypertension with inability to carry out any physical activity without symptoms. These patients manifest signs of right heart failure. Dyspnea and/or fatigue may even be present at rest. Discomfort is increased by any physical activity. impairment in patients with PH [ <xref ref-type=\"bibr\" rid=\"ref28\">28</xref> ]. It places patients in one of four categories based on how much they are limited during ordinary physical activity (Table 3). \n",
            " The 6-minute walk test has been used successfully to measure the effectiveness of therapy and risk stratification in heart failure and PH. This test is indicative of an individual’s ability to perform activities of daily living [ <xref ref-type=\"bibr\" rid=\"ref29 ref30\">29,30</xref> ]. The 6-minute walk test has demonstrated reproducibility in a spectrum of patients with chronic cardiopulmonary disease [ <xref ref-type=\"bibr\" rid=\"ref30 ref31 ref32 ref33 ref34\">30-34</xref> ]. The coefficient of variance has been reported at &lt;10% [ <xref ref-type=\"bibr\" rid=\"ref30 ref32\">30,32</xref> ]. As a result, the 6-minute walk test has been accepted by regulatory agencies and is most commonly used as a primary endpoint in randomized clinical trials of PAH-specific therapy [ <xref ref-type=\"bibr\" rid=\"ref33\">33</xref> ]. Reference equations for estimating 6-minute walk distance in healthy men and women are based on height, age and weight. In PAH, the distance walked significantly decreases with worsening NYHA/WHO functional class and has been independently related to mortality in PAH by multivariate analysis [ <xref ref-type=\"bibr\" rid=\"ref35\">35</xref> ]. The 6-minute walk test will be performed in accordance with standard practice. Each participant will walk along a measured pathway with pulse oximetry and heart rate monitoring. Blood pressure, oxygen saturation, heart rate and a modified Borg dyspnea index will be recorded at baseline, upon completion of the test, and during recovery. \n",
            " Parameters obtained during cardiopulmonary exercise testing, peak oxygen uptake (peak VO2) and the slope of ventilation to carbon dioxide production during exercise (VE/VCO2) have been well established as powerful prognostic indicators in chronic heart failure. In patients with IPAH, cardiopulmonary exercise testing demonstrated that strong predictors of impaired survival were low peak VO2 and low systolic blood pressure at peak exercise [ <xref ref-type=\"bibr\" rid=\"ref36\">36</xref> ]. Patients with peak VO2 ≤10.4 ml/kg/min and peak systolic blood pressure ≤120 mmHg had poor survival rates at 12 months (23%) compared to patients with one or neither of these risk factors (79% and 97% respectively). \n",
            "All participants will undergo symptom-limited treadmill exercise testing using a modified Naughton protocol (Table 4). This protocol is designed to gently increase work by limiting each stage increase to approximately one metabolic equivalent (3.5 ml/kg/min VO2). The following will be recorded: exercise duration; heart rate, systemic blood pressure and pulse oximetry at the start of the exercise, at the end of each 2-minute stage of the exercise protocol, and immediately after cessation of exercise; and oxygen consumption and carbon dioxide production using breath-by-breath analysis of expired gas (Sensor Medics Horizons MMC, Anaheim, CA, USA) with each 15 seconds of data averaged. Any individual unable to complete the cardiopulmonary exercise testing but otherwise willing to 1 2 3 4 5 6 7 8 9 10 Table 4 Modified naughton protocol for exercise testing Stage Time (minutes) MPH % Incline METS 0 (rest/recovery) 1:00 1.0 0.0 1.8 MET, metabolic equivalent (3.5 ml/kg/min VO2); MPH, miles per hour. K &lt;5.3 mEq/L ** and Cr unchanged or &lt;50% of baseline\n",
            "Day 0 Start study drug\n",
            "Week 1\n",
            "Labs Continue current dose Week 6 labs Study drug dose remains unchanged if K &lt;5.3 mEq/L ** and Cr unchanged or &lt;50% of baseline K &lt;5.0 mEq/L and Cr unchanged or &lt;50% of baseline Continue current dose Week 9 labs Week 12\n",
            "labs Week 16\n",
            "labs Week 20\n",
            "labs Week 24 labs\n",
            "Weeks 7-9: Dose increased\n",
            "Weeks 7-9:\n",
            "Dose unchanged K 5.3 mEq/L*\n",
            "See\n",
            "Figure 3\n",
            "K 5.3 mEq/L* 5.0 K &lt; 5.3mEq/L** and Cr unchanged or &lt;50% of baseline\n",
            "Continue current dose Week 9 labs Week 12\n",
            "labs Week 16\n",
            "labs Week 20\n",
            "labs Week 24 labs 2:00 2:00 2:00 2:00 2:00 2:00 2:00 2:00 2:00 2:00\n",
            "Study drug dose remains unchanged if K &lt;5.3 mEq/L ** and Cr unchanged or &lt;50% of baseline 2.0 2.0 2.0 2.0 2.0 2.0 2.6 3.0 3.4 3.7 0.0 3.5 7.0 10.5 participate in the protocol will remain eligible and their data will be included in any final analyses of the portions of the protocol that they completed.\n",
            " Echocardiograms will be performed according to standard American Society of Echocardiography criteria using commercially available ultrasound machines. Images will be recorded and saved on an online server. If technically possible, multiple views will be recorded including the parasternal long- and short-axis views, the apical two- and four-chamber views, and the subcostal views. Cardiac chamber sizes will be assessed from multiple views. RV outflow tract flow will be assessed with the sample volume positioned immediately below the pulmonic valve in the parasternal short-axis view with pulse wave and continuous wave Doppler. Analysis of the pulsed wave Doppler signal in the RV outflow tract will allow for measurement of the velocity time integral (surrogate of stroke volume), time to peak velocity (acceleration time) and for categorization of the basic morphology of the Doppler signal (no notch, late systolic notch, mid-systolic notch) [ <xref ref-type=\"bibr\" rid=\"ref37\">37</xref> ]. The RV diastolic diameter will be measured 1 cm apical of the tricuspid annulus from the apical four-chamber view. The LV diastolic diameter will also be assessed 1 cm apical of the mitral annulus from the apical four-chamber view. RV end-diastolic dimension can thus be expressed as an absolute value and in relation to LV end-diastolic dimension (RV:LV dimension ratio). Atrial areas will be measured in the same view by planimetry at end-systole. Color Doppler will be used to assess the degree of tricuspid regurgitation in multiple views. The highest right atrial to right ventricular gradient from continuous wave Doppler will be used as an estimate of RV systolic pressure. The spectral jets of tricuspid and mitral regurgitation with continuous wave Doppler will be used for measurement of dP/dt. If technically feasible, subcostal views will be used to assess inferior vena cava size and response to respiratory maneuvers. Tricuspid annular plane systolic excursion will be measured using either M-mode imaging or twodimensional imaging from the apical four-chamber view [ <xref ref-type=\"bibr\" rid=\"ref38\">38</xref> ]. Tissue Doppler imaging will be used for assessment of LV and RV systolic and diastolic performance. Tissue velocity data will be used to derive strain and strain rate measurements for assessment of ventricular systolic and diastolic performance. \n",
            " Assessment of RV structural and functional remodeling remains a fundamental aspect of PAH diagnosis and follow-up [ <xref ref-type=\"bibr\" rid=\"ref39\">39</xref> ]. Echocardiography is currently the most commonly used diagnostic tool for these assessments, however, it suffers from many limitations such as limited viewing angles, low signal-to-noise ratio and a low frame rate [ <xref ref-type=\"bibr\" rid=\"ref40\">40</xref> ]. Moreover, only longitudinal contraction has been investigated, which represents strain in only one direction and is prone to inaccurate measurements of the RV due to its complex crescent shape [ <xref ref-type=\"bibr\" rid=\"ref40 ref41\">40,41</xref> ]. RV imaging using MRI has recently gained interest because of the quality and quantity of data obtained with this technique. Unfortunately, assessing changes in global RV structure as well as local contractility still pose difficulties for currently used MRI techniques. Some of these limitations include low functional resolution and prohibitively long image acquisition times in order to obtain three-dimensional contractility data. Our collaborators have recently developed fast MRI techniques for quantification of three-dimensional myocardial strain from single slices [ <xref ref-type=\"bibr\" rid=\"ref42 ref43\">42,43</xref> ], and for high functional resolution imaging. These new techniques address previous limitations and may allow for a more accurate assessment of RV structural and functional changes and how they evolve with disease progression. \n",
            " In addition to developing more sophisticated MRI techniques of assessing the RV in patients with PAH, there may also be an important role for using MRI to follow pulmonary artery endothelial function over time and in response to therapy. Currently, much of the interpretation for the role of endothelial function in underlying disease states is based on studies of either peripheral vessel dynamic vasomotor function, which only modestly correlates with that of the main arteries [ <xref ref-type=\"bibr\" rid=\"ref44 ref45 ref46\">44-46</xref> ], or using invasive angiography with Doppler flow measures. MRI is another method of non-invasively assessing arterial cross-sectional area and flow velocity, however, it has been rarely used for endothelial-dependent vasomotor responses [ <xref ref-type=\"bibr\" rid=\"ref47 ref48\">47,48</xref> ]. Utilizing newer MRI methods, it is now possible to quantify pulmonary arterial vasoreactivity as a surrogate for pulmonary artery endothelial function. \n",
            " The MRI sequence protocol includes global measures, such as end-diastolic and end-systolic RV/LV volume and RV/LV ejection fractions; local measures, such as RV systolic and diastolic peak longitudinal strain and strain rates and three-dimensional regional contractility (strain) analysis; and vasomotor responses. To assess endothelial-dependent vasomotor responses, each participant will be asked to perform the hand-grip exercise while arterial dimensions and blood flow measurements are obtained [ <xref ref-type=\"bibr\" rid=\"ref49 ref50\">49,50</xref> ]. Magnetic resonance data will be collected before, during and after hand-grip exercise. The vascular beds of interest include, but are not limited to, the coronary, brachial and pulmonary arteries. Exclusion criteria for MRI and gadolinium are listed in Table 5. Any individual unable to tolerate some or all of the MRI sequences included in the study but otherwise willing to participate in the protocol will remain eligible and their data will be included in any final analyses of the portions of the protocol that they completed. These contraindications include but are not limited to the following devices or conditions: \n",
            "Implanted cardiac pacemaker or defibrillator Cochlear Implants Ocular foreign body (for example, metal shavings) Embedded shrapnel fragments Central nervous system aneurysm clips Implanted neural stimulator Any implanted device that is incompatible with MRI Unsatisfactory performance status as judged by the physician such that the participant could not tolerate an MRI scan Participants requiring monitored sedation for MRI studies Participants with a condition precluding entry into the scanner (for example, morbid obesity, claustrophobia) Participants with severe back-pain or motion disorders who will be unable to tolerate supine positioning within the MRI scanner and hold still for the duration of the examination History of severe allergic reaction to gadolinium contrast agents despite pre-medication with diphenhydramine and prednisone Chronic kidney disease (estimated glomerular filtration rate of &lt;60 mL/min/1.73 m2 of body surface area) Exclusion criteria for gadolinium-based MRI studies only:\n",
            " Markers of endothelial dysfunction and neurohormonal assays will be measured using plasma aliquoted from a single 10 mL blood draw collected at the indicated time points (Additional file 1: Figure S1). NT-proBNP testing will be performed on a separate blood sample sent to the NIH Clinical Center Laboratory. A timed 8-hour (overnight) urine sample will be collected, the total volume recorded, and 50 mL will be saved for further processing. Following centrifugation, urine sample aliquots will be stored at −80°C [ <xref ref-type=\"bibr\" rid=\"ref51\">51</xref> ]. Plasma and urine aliquots for neurohormonal testing will be shipped to the University of Pennsylvania for further processing. \n",
            " cells using Affymetrix GeneChipW Microarrays PBMCs have repeated contact with the altered endothelial cell surface in PAH and therefore may harbor unique signatures that are indicative of the disease process [ <xref ref-type=\"bibr\" rid=\"ref52 ref53 ref54\">52-54</xref> ]. In a recent pilot study comparing PBMC expression profiles from 10 patients with PAH with 10 age-, genderand race-matched controls, we identified 321 differentially regulated genes at a 20% false discovery rate. IngenuityW Pathway Analysis (IngenuityW Systems, Redwood, CA, USA) identified gene signatures for inflammation, cell-to-cell signaling and interaction, cytoskeletal rearrangement, cellular movement, hemostasis, and cell death [ <xref ref-type=\"bibr\" rid=\"ref55\">55</xref> ]. To determine the effects of spironolactone therapy on PBMC gene expression in patients with PAH, we will compare changes in expression profiles at 12 and 24 weeks from baseline (obtained under our Natural History Study) between the treatment and placebo groups. \n",
            "Blood specimens will be encoded to ensure patient confidentiality. No gene expression information with patient identifiers will be placed in the medical chart or in public records. Total RNA will be isolated, precipitated and quantified. Once total RNA is prepared, samples can be safely stored for an additional year. If longer storage of RNA samples is necessary, a commercially available methodology can be used to safely store total RNA at −80°C for up to 10 years. Total RNA isolated from the patient’s PBMCs will be hybridized to Affymetrix GeneChipW Human Gene 2.0 ST Arrays (AffymetrixW, Santa Clara, CA, USA). Expression profile results will be used to direct confirmatory testing using quantitative real-time polymerase chain reaction (PCR).\n",
            " Previous reports have used microarray analysis to PBMCs [ <xref ref-type=\"bibr\" rid=\"ref52 ref53 ref54\">52-54</xref> ] and lung tissue [ <xref ref-type=\"bibr\" rid=\"ref56 ref57\">56,57</xref> ] from patients with PAH, however a focused investigation of PAH plasma effects on primary human pulmonary artery endothelial cells (PAECs) has not been previously reported to our knowledge [ <xref ref-type=\"bibr\" rid=\"ref58\">58</xref> ]. Plasma (from 60 mL of whole blood) will be collected from participants in sterile, endotoxin-free syringes containing heparin. Samples will be collected at baseline (under the Natural History Study) and upon study completion at 24 weeks. This plasma will be used to explore the effects of circulating mediators on PAEC gene expression. We have developed a bioassay assessing global transcriptomic changes in PAECs induced by plasma from patients with PAH compared to healthy controls using AffymetrixW oligonucleotide microarrays. In addition to naive cells, plasma may be tested on PAECs exposed to inflammatory challenges and/or rendered ‘dysfunctional’ (bone morphogenetic protein receptor 2 gene silencing or Smad dominant negative mutant expression with or without endothelial nitric oxide synthase gene silencing). Candidate genes will be confirmed by quantitative real-time PCR. Gene expression changes will be correlated with pulmonary artery endothelial function assessed in vivo by MRI as well as with traditional measurements of disease severity, including NYHA/WHO class and 6-minute walk. Remaining stored plasma may later be tested for circulating factors such as microRNAs, cytokines, chemokines or other circulating mediators for correlation with expression profiling results. \n",
            " Previous studies have examined the effects of PAH-specific therapy on time to clinical worsening, exercise capacity and endothelial inflammation in patients with PAH [ <xref ref-type=\"bibr\" rid=\"ref59 ref60 ref61 ref62 ref63\">59-63</xref> ]. Moreover, the effects of spironolactone on endothelial dysfunction have been examined in diverse non-PAH patient populations [ <xref ref-type=\"bibr\" rid=\"ref19 ref20 ref21 ref22 ref23\">19-23</xref> ]. However, no prior randomized controlled trials have been completed that report on the effects of spironolactone treatment in patients with PAH. Assuming that a subset of the participants with PAH may discontinue study drug or otherwise not be able to complete the study, we plan to enroll up to 70 participants with PAH to obtain at least 50 completed studies. The participants will be randomized in a 1:1 ratio to spironolactone therapy or placebo. At a two-sided α level of 0.05, we will have at least 84% power to detect an effect size (group mean difference divided by standard deviation) of 0.9 for the difference in the change of 6-minute walk distance from baseline between the two treatment groups [ <xref ref-type=\"bibr\" rid=\"ref61\">61</xref> ]. \n",
            "Participant characteristics will be summarized using contingency tables (for categorical variables), means and standard deviations for continuous variables that are approximately normally distributed (transformed if needed) or median and inter-quartile range for continuous variables that are not normal.\n",
            "For the primary endpoints, changes in 6-minute walk distance (24 weeks versus baseline) will be compared between the two groups using linear mixed models (LMMs), Kaplan-Meier curves will be plotted to show the time to clinical worsening, and a log-rank test will be used to compare the two arms. Chi-squared tests or Fisher exact tests, t-tests or Wilcoxon rank-sum tests will be used to compare variables between the two arms when appropriate. The rates of study drug discontinuation between the two arms will be compared using the Fisher exact test, and a logistic regression will be considered to account for potential confounders if the two arms are imbalanced. The causes of discontinuation will be tabulated and compared if appropriate.\n",
            "For secondary endpoints, LMMs will be used to assess the effect of spironolactone therapy on changes in VO2 maximum (24 weeks versus baseline), plasma markers of endothelial inflammation, sex hormone levels, and on activation of the renin-angiotensin-aldosterone and sympathetic nervous systems, as well as RV function as assessed by echocardiography, MRI and NT-proBNP. Random participant effect will be included to account for repeated measures within each participant over time. Transformations (for example, log-transformation) will be considered to stabilize variance. Standard residual diagnostics will be used to assess model assumption. VO2 maximum data may not be available for all participants. Based on the recent experience of the NHLBI pulmonary function laboratory at the NIH Clinical Center, approximately 5% to 10% of research participants have been unable to complete cardiopulmonary exercise testing or had incomplete data. We will collect information about the reason for missing VO2 maximum data. If the missing data can be considered ‘missing at random’ (for example, due to personal preference, orthopedic issues, inability to tolerate the mouthpiece or facemask), LMM is appropriate. For potentially informative missing data (for example, a participant is too sick to complete the procedure), to be conservative, a minimum value will be used for participants in the spironolactone group, and a last-observation-carryforward approach will be used in the control group. The proportions of participants in the two treatment groups that have no VO2 maximum data will also be compared.\n",
            "Samples and their corresponding results will be subjected to strict quality control standards to assure that specimens are processed in balanced batches, to minimize the lot and reagent batch effects. Raw data will be background corrected, transformed, quantile normalized and summarized using the robust multi-array average technique. A principal components analysis will be computed to assist with recognizing outlying microarrays, which, along with other quality control indicators, may lead to rejection or re-analysis of some samples. LMM will be used to compare the PBMC gene expression profiles between the two treatment groups at each time point after accounting for repeated measures of each patient. Gene selection will be based on calculated false discovery rate to control the number of false positive findings.\n",
            "Significant genes from these analyses will be annotated using automated tools, and a literature search will be performed for relevant information relating to the set of significant results. Significantly over-represented terms from formal ontologies, such as GeneOntology using the Database for Annotation, Visualization and Integrated Discovery, will be reported. Additional bioinformatics tools such as, IngenuityW Pathway Analysis (IngenuityW Systems) will be used in the annotation step.\n",
            "As a safeguard, at the time of enrollment each patient will be asked to identify a primary responsible physician who will be notified of the patient’s enrollment and, therefore, will be aware of the potential development of hyperkalemia or renal insufficiency during the course of the study. Serum potassium, blood urea nitrogen and creatinine will be measured one week after initiating therapy or a dose increase and then serially thereafter according to the pre-specified schedule (Figure 1 and Additional file 1: Figure S1). For laboratory monitoring of serum potassium, blood urea nitrogen and creatinine on day 7, week 6, week 9, week 16 and week 20 (±7 days), participants will be given laboratory requisition slips for sample collection at an outside facility near their home (Additional file 1: Figure S1). Participants will be instructed to have their samples drawn within 7 days of the specified time point. Those participants who wish to return to the NIH Clinical Center to have these samples drawn may do so instead of going to an outside facility. For laboratory monitoring of serum potassium, blood urea nitrogen and creatinine at week 12 and week 24, samples will be collected along with other research samples at the time of the NIH Clinical Center visit (Additional file 1: Figure S1). In the event that specimens are reported as hemolyzed, participants will be instructed to repeat their sample draw within 7 days of their previous sample. In the event that any scheduled laboratory monitoring is delayed for &gt;7 days, participants will be instructed to stop the study drug and will be removed from the protocol.\n",
            "If while on therapy a patient’s serum potassium level increases to 5.3 to 5.9 mEq/L, the study drug will be stopped and their serum potassium level will be checked again within 24 to 48 hours (Figure 2). At the study investigators’ discretion, any participant with a potassium level ≥5.3 mEq/L can be referred for medical evaluation at the nearest health care facility. If the repeat serum potassium is &lt;5.3 mEq/L, then the study drug will be resumed at the previous dose and serum potassium measurement will be repeated again 72 to 96 hours later, and then weekly for two weeks, followed by resumption of the normal monitoring schedule as long as the serum potassium remains &lt;5.3 mEq/L. If the serum potassium remains ≥5.3 mEq/L on two consecutive blood draws, the study drug will be discontinued. Delay in laboratory monitoring longer than 48 hours from the specified time frame in participants with a serum potassium of ≥5.3 mEq/L will result in that patient being removed from the protocol. If at any time the serum potassium is ≥6.0 mEq/L (Figure 2), the study drug will be discontinued and the participant will be referred to the nearest health care facility where standard treatment for hyperkalemia can be provided. In these participants, the study drug will not be restarted and they will be removed from the protocol. If while on the study drug a participant’s serum creatinine increases &gt;50% then the study drug will be discontinued and the participant will be removed from the protocol. Prior to initiation of the study drug and throughout the trial during follow-up visits, participants will be asked about the presence of breast pain and, in male participants, the development of gynecomastia.\n",
            "Throughout testing, all participants will be monitored by a respiratory therapist or a pulmonary function technician with pulse oximetry. The test will be terminated if the participant develops limiting clinical symptoms including but not limited to significant fatigue, shortness of breath, leg discomfort and dizziness.\n",
            " All participants will be accompanied by a pulmonary function technician and a licensed practitioner and will be monitored by continuous pulse oximetry and electrocardiography (ECG). Exercise testing will not be performed in participants with absolute contraindications to exercise testing according to American College of Cardiology/American Heart Association guidelines, which include the following: acute myocardial infraction (within 2 days), high-risk unstable angina, uncontrolled cardiac arrhythmias causing symptoms or hemodynamic compromise, symptomatic severe aortic stenosis, uncontrolled symptomatic heart failure, and acute aortic dissection. Determination of test termination will be based on published guidelines (Table 6) [ <xref ref-type=\"bibr\" rid=\"ref64\">64</xref> ]. In addition, the test will be terminated regardless of symptoms if both of the following two conditions are met: pulse oximetry decreases by &gt;5% from baseline and pulse oximetry value &lt;90%. \n",
            "MRI scans are expected to last 30 to 60 minutes but may get prolonged to 90 minutes in some cases. Scans are monitored by a technologist supervised by a physician or by a physician with the support of a second health care professional. Monitoring typically includes continuous ECG, intermittent non-invasive blood pressure, and pulse oximetry as indicated. Participants may elect to terminate the imaging protocol at any time.\n",
            "MRI studies will be monitored in the following ways: direct visual and auditory contact with the participant by a nurse, nurse practitioner or physician in the MRI suite; indirect visual contact via a video camera output displayed over the MRI scan control console; two-way microphone system between the participant and the operator of the MRI scan control console; continuous display of the ECG; and intermittent non-invasive measurement of blood pressure.\n",
            "PAH is a progressive disease and therefore clinical worsening may occur in participants during the protocol, irrespective of their treatment group assignment. Individual stopping rules for participants enrolled in the protocol include: 1. If a participant develops clinical evidence of right heart failure (which may include but is not limited K 5.3* mEq/L and Cr unchanged or &lt;50%\n",
            "of baseline K 5.3 mEq/L but\n",
            "&lt;6.0 mEq/L** Stop study drug\n",
            "Repeat labs within 24 to 48 hours K&lt;5.3 mEq/L\n",
            "Resume study drug at previous\n",
            "dose Repeat labs within 72 to 96 hours Continue study drug Repeat\n",
            "labs weekly ×2 Resume normal monitoring schedule K &lt;5.3 mEq/L K &lt;5.3 mEq/L\n",
            "K 5.3 mEq/L Stop study drug, participant is removed from the study and\n",
            "laboratory monitoring is repeated every 24 to 48 hours\n",
            "until K &lt;5.5 mEq/L K 5.3 mEq/L\n",
            "K 5.3 mEq/L K 5.3 mEq/L\n",
            "K 6.0 mEq/L Stop study drug and\n",
            "participant is removed from the\n",
            "study\n",
            "Participant referred to their nearest health care facility and\n",
            "treated for hyperkalemia according to standard clinical practice to elevated jugular venous pressure, ascites and lower extremity edema) as determined by the patient’s primary physician or the investigators, then the participant will be removed from the protocol and treated for decompensated right heart failure according to standard of care. 2. If a participant deteriorates clinically, even in the absence of overt right heart failure, and the primary treating physician or the investigators feel that the addition of a MR antagonist such as spironolactone or eplerenone is clinically indicated then the participant will be removed from the study. 3. If a participant has more than one episode of serious hyperkalemia (potassium ≥5.3 mEq/L) or one episode of severe hyperkalemia (potassium ≥6.0 mEq/L), the study drug will be discontinued and the participant will be removed from the protocol. 4. If a participant develops renal insufficiency (rise in serum creatinine &gt;50% of baseline) while on protocol, then the study drug will be discontinued and the participant will be removed from the protocol. 5. In the event that testing for serum potassium, blood urea nitrogen and creatinine is delayed for &gt;7 days, the participant will be instructed to stop the study drug and will be removed from the protocol. 6. In any participant with a serum potassium level ≥ 5.3 mEq/L, a delay in laboratory monitoring longer than 48 hours from the specified time frame will result in removal from the protocol. 3. Increasing nervous system symptoms (ataxia, dizziness, or near-syncope) 4. Signs of poor perfusion (cyanosis or pallor) 5. Technical difficulties in monitoring ECG or systolic blood pressure 6. Participant’s desire to stop 7. Sustained ventricular tachycardia 8. ST elevation (≥ 1.0 mm) in leads without diagnostic Q-waves (other than V1or aVR) Relative indications 1. Decrease in systolic blood pressure &gt;10 mmHg from baseline,\n",
            "in the absence of evidence of ischemia 2. ST or QRS changes such as excessive ST-depression (&gt;2 mm of horizontal or down-sloping ST-segment depression) or marked axis shift 3. Arrhythmias other than sustained ventricular tachycardia, including multifocal PVCs, triplets of PVCs, supraventricular tachycardia, heart block, or bradyarrhythmias 4. Fatigue, shortness of breath, wheezing, leg cramps or claudication 5. Development of bundle-branch block or IVCD that cannot be\n",
            "distinguished from ventricular tachycardia 6. Increasing chest pain 7. Hypertensive responsea aIn the absence of definitive evidence, the committee suggests systolic blood pressure of &gt;250 mmHg and/or a diastolic blood pressure of &gt;115 mmHg. ECG, electrocardiography; IVCD, intraventricular conduction delay; PVCs, premature ventricular contractions.\n",
            "7. If while on study drug a participant develops significant breast pain or gynecomastia then the study drug will be discontinued and the participant will be removed from the protocol.\n",
            "Due to the fact that this protocol is designed as a pilot study of spironolactone therapy, we have not set predetermined protocol stopping rules for clinical efficacy. However, as described above, the occurrence of excess life-threatening or serious adverse events (such as severe hyperkalemia or renal insufficiency) is possible and the frequency and distribution of these events in each treatment group will be monitored closely. Serious adverse events and unexpected adverse events will be reviewed with the help of the Data Safety and Monitoring Board (DSMB) to determine the relationship of these events to the current protocol.\n",
            "Criteria for exclusion or withdrawal from the study are based on the presence of other disease processes that may interfere with the interpretation of our results or situations that may be harmful to the participants. Individuals of both genders and all races will be considered for inclusion in this study. Cognitively impaired and institutionalized persons unable to provide written informed consent will not participate in this study.\n",
            " Children under the age of 18 will be excluded from this protocol because of differences between adults and children with regards to functional classification and exercise capacity at the time of PAH diagnosis [ <xref ref-type=\"bibr\" rid=\"ref65\">65</xref> ]. In addition, a substantially higher proportion of pediatric patients demonstrate acute vasoreactivity at the time of right heart catheterization compared to adults [ <xref ref-type=\"bibr\" rid=\"ref65\">65</xref> ]. These differences would add additional heterogeneity to the study population and therefore could potentially obscure the effects of the study drug on exercise capacity, clinical worsening, RV function and vascular inflammation. \n",
            "Because of potential adverse effects on the fetus, pregnant participants will be excluded from the study. In addition, women of childbearing potential must agree to use adequate contraception (hormonal, barrier method of birth control, or abstinence) prior to and for the duration of study participation. Female participants with childbearing potential will be regularly assessed throughout the study. In the event of a positive pregnancy test, the participant will be immediately informed of this result, the study drug will be discontinued, and the participant will be removed from the study.\n",
            " The most significant risks associated with spironolactone therapy include hyperkalemia, renal insufficiency, hypovolemia and gynecomastia with or without breast pain. In a large trial of patients with NYHA class III and IV LV heart failure (the mean dose of spironolactone was 26 mg and dose titration up to 50 mg daily), the incidence of severe hyperkalemia (&gt;6 mEq/L) was not significantly different between the spironolactone treatment group (2%) and placebo (1%) but the median potassium concentration did increase by 0.30 mmol/L in the spironolactone-treated group [ <xref ref-type=\"bibr\" rid=\"ref15\">15</xref> ]. The median creatinine concentration also increased (0.05 to 0.10 mg/dL) in the spironolactone-treated group. The risk of hyperkalemia while on spironolactone therapy is increased in the presence of renal insufficiency, concurrent use of ACE inhibitors or angiotensin receptor blockers, potassium-sparing diuretics or NSAIDs [ <xref ref-type=\"bibr\" rid=\"ref66\">66</xref> ]. Precautions that will be taken include: participants will be counseled to avoid foods high in potassium and to avoid concurrent use of NSAIDs; patients taking ACE inhibitors, angiotensin receptor blockers, or potassium-sparing diuretics will be excluded from the study; participants will undergo frequent monitoring of serum potassium, creatinine and blood urea nitrogen; cessation of the study drug when serum potassium ≥6 mEq/L or when it remains ≥5.3 mEq/L on two occasions; and cessation of the study drug when creatinine increases by &gt;50% of baseline value. \n",
            " Gynecomastia in men and painful breast enlargement in women may occur in participants treated with spironolactone and appear to be related to dose and duration of therapy [ <xref ref-type=\"bibr\" rid=\"ref67 ref68 ref69\">67-69</xref> ]. The Randomized Aldactone Evaluation Study reported incidences of gynecomastia and breast pain in 9% and 2% of spironolactone-treated patients, respectively. This was significantly different from placebo and led to discontinuation of the study drug in 2% of spironolactone-treated patients in this trial [ <xref ref-type=\"bibr\" rid=\"ref15\">15</xref> ]. In the majority of cases, gynecomastia and breast pain subside with cessation of the drug [ <xref ref-type=\"bibr\" rid=\"ref68 ref70\">68,70</xref> ]. Prior to initiation of the study drug and throughout the trial during follow-up visits, participants will be asked about the presence of breast pain and, in male patients, the development of gynecomastia. If while on the study drug a participant develops significant breast pain or gynecomastia then the study drug will be discontinued. Additional side effects reported with spironolactone therapy and related to its progesteronal and antiandrogenic activity include menstrual irregularities (amenorrhea, postmenopausal bleeding), decreased libido and erectile dysfunction [ <xref ref-type=\"bibr\" rid=\"ref67 ref68 ref69\">67-69</xref> ]. These also appear to be dose related and typically resolve upon drug cessation [ <xref ref-type=\"bibr\" rid=\"ref69 ref71\">69,71</xref> ]. \n",
            "Blood draws throughout the study are well within the NIH Clinical Center policy (that is, the amount of blood drawn for research purposes from participants 18 years of age or older will not exceed 550 mL or 10.5 mL/kg, whichever is smaller, over any eight-week period). Standard precautions for obtaining human blood samples will be taken. Transient discomfort and minor bruising may occur at the phlebotomy site. Vasovagal symptoms can occur during blood drawing.\n",
            "The risks associated with a symptom-limited six-minute walk are minimal.\n",
            "Exercise testing is a safe procedure with experienced personnel. Conduction abnormalities or atrial/ventricular arrhythmias may occur during the test, requiring institution of advanced cardiovascular life support. The participant could also develop ischemic symptoms requiring intensive care unit monitoring and treatment.\n",
            "There is no known risk from the ultrasound examination. The safety of echocardiography has been well established. Localized transient discomfort from the probe and irritation from the ultrasound gel may occur.\n",
            "MRI uses no ionizing radiation and is quite safe when performed on a properly screened population. Potential risks relate to the magnetic field’s effect on participants with implanted metal objects (such as cerebral aneurysm clips, cochlear implants). The magnetic field can cause twisting or movement of these objects thus causing harm to the patient. Also the radiofrequency power associated with MRI can potentially cause burns in patients with pacemakers or other implanted coiled wires. Participants will be screened for these objects and excluded as indicated. The scanner gradient performance (dB/dt limit) is set on an individual basis to avoid painful peripheral nerve stimulation. Precautions that will be taken include informing the participant of the possibility for peripheral nerve stimulation in the consent form; empirically using parameters that maintain gradient switching rates below the pain threshold; and audio feedback from the participant.\n",
            "The NIH MRI Unit adheres to the Food and Drug Administration guidelines for radiofrequency power levels (specific absorption rate limits). The MRI scanner is operated at the Food and Drug Administration limits established for MRI in general applications. However, in cases of a damaged or dysfunctional surface coil, there is a small chance of local warming in the body. For safety purposes, participants are asked to report this sensation so scans can be modified or the integrity of hardware verified.\n",
            " Participants may receive an intravenous injection of gadolinium chelate that is not to exceed 0.2 mmol/kg gadolinium per bolus injection and 0.4 mmol/kg gadolinium per examination. We will be adhering to the NHLBI polices regarding administration of gadolinium. Experience with a large number of patients has shown that these commercially available gadolinium chelates are safe [ <xref ref-type=\"bibr\" rid=\"ref72 ref73 ref74 ref75 ref76\">72-76</xref> ] and without side effects in the majority (&gt;98%) of patients. When side effects do occur, they are usually mild and transient. These include coldness in the arm during the injection, a metallic taste, headache and nausea. More severe reactions (shortness of breath, wheezing or hypotension) are extremely rare. More recently however, there have been reports of nephrogenic systemic fibrosis or nephrogenic fibrosing dermopathy associated with the use of gadolinium in patients with severe renal dysfunction [ <xref ref-type=\"bibr\" rid=\"ref77\">77</xref> ]. The risk of these occurrences should be minimized through the use of a questionnaire form and an assessment of eGFR in all participants. \n",
            "The principal investigator will monitor accrual and safety data as well as occurrence of any unusual or unpredicted complications. An independent DSMB established by the NHLBI will review symptom and outcome data at 6-month intervals to ensure participant safety and confirm that withdrawal criteria are observed. Study monitoring will be conducted by an outside consultant working under an agreement with the NHLBI to monitor aspects of the study in accordance with the appropriate regulations and the approved protocol. Stopping rules and withdrawal criteria have been established to ensure participant safety during the study. The DSMB may recommend early termination of the study for considerations of safety and efficacy. Accrual and safety data will also be monitored and reviewed annually by the Institutional Review Board.\n",
            "The principal investigator will be responsible for overseeing entry of data into a password-protected electronic system and ensuring data accuracy, consistency and timeliness. On all study documents, participants will be identified by a participant number assigned at enrollment, and will not be identified by name. Data will be stored in locked cabinets and in a password-protected database until it is no longer of scientific value. Should we become aware that a major breech in our plan to protect patient confidentiality and trial data has occurred, the Institutional Review Board will be notified.\n",
            "Adverse events reported under this protocol will be limited to those events that are possibly, probably or definitely related to the research described in this protocol.\n",
            "Unanticipated problems that are either adverse events or non-adverse events will be reported within 7 calendar days of investigator awareness. The following items will also be reported to the NHLBI Institutional Review Board in summary at the time of Continuing Review: all unanticipated problems; any protocol-specific reporting requirements; and all protocol deviations, which in the opinion of the investigator require reporting.\n",
            "Currently no published data exists from randomized clinical trials examining the safety and efficacy of MR antagonist therapy in early stages of PAH. Initiating therapy with spironolactone at an earlier stage of disease may improve PAH-associated vascular inflammation. This protocol describes the rationale, design and methodology of a randomized, double blinded, placebo-controlled pilot study in patients with PAH investigating the effect of early treatment with spironolactone on exercise capacity, clinical worsening and vascular inflammation in vivo.\n",
            "We are in the recruiting phase.\n",
            "Additional file 1: Figure S1. Time and events schedule.\n",
            "Abbreviations ACE: angiotensin-converting enzyme; Cr: creatinine; DSMB: Data Safety and Monitoring Board; ECG: electrocardiography; eGFR: estimate glomerular filtration rate; HIV: human immunodeficiency virus; IL-1β: interleukin-1 beta; IL1RL1: interleukin-1 receptor-like 1; IL-6: interleukin-6; IL-7: interleukin-7; IL8: interleukin-8; IPAH: idiopathic pulmonary arterial hypertension; IVCD: intraventricular conduction delay; K: potassium; labs: laboratory tests; LMM: linear mixed model; LV: left ventricular; MCP-1: monocyte chemotactic protein-1; MET: metabolic equivalent, MPH, miles per hour; MR: mineralocorticoid receptor; MRI: magnetic resonance imaging; NFκB: nuclear factor kappa B; NHLBI: National Heart, Lung, and Blood Institute; NIH: National Institutes of Health; NR: nuclear receptor; NSAIDs: nonsteroidal anti-inflammatory drugs; NT-proBNP: N-terminal probrain natriuretic peptide; NYHA: New York Heart Association; PAECs: pulmonary artery endothelial cells; PAH: pulmonary arterial hypertension; PBMCs: peripheral blood mononuclear cells; PCR: polymerase chain reaction; PH: pulmonary hypertension; PVCs: premature ventricular contractions; RNA: ribonucleic acid; RV: right ventricular; sCD40L: soluble CD40 ligand; sICAM-1: soluble intercellular adhesion molecule 1; sVCAM1: soluble vascular cell adhesion molecule 1; TNFα: tumor necrosis factor alpha; VCO2: carbon dioxide production; VE: ventilation; VO2: oxygen uptake; WHO: World Health Organization.\n",
            "Competing interests The authors declare that they have no competing interests.\n",
            "Authors’ contributions JME, RLD and MAS contributed to the conception and design of the protocol and drafted the initial manuscript. JER, PRF, MKH, JS, AG, KA, GG, and BH made contributions to the conception and design of the trial and critically revised the manuscript for important intellectual content. All authors read and approved of the final manuscript.\n",
            "Acknowledgements The funding for this study is from the NIH Office of Research on Women’s Health (2011 Bench to Bedside Award; $270,000 over two years), as well as intramural funding from the Critical Care Medicine Department, NIH Clinical Center. We are grateful for the support and assistance of Judith Welsh (NIH Clinical Center biomedical librarian), Judith Starling (pharmacist) and the Pharmaceutical Development Section of the NIH Clinical Center Pharmacy. USA. 3National Institutes of Health, Biomedical and Metabolic Imaging Branch, National Institute of Diabetes and Digestive and Kidney Diseases, 10 Center Drive, MSC 1662, Bethesda, MD 20892, USA. 4National Institutes of Health, Cardiovascular and Pulmonary Branch, National Heart, Lung and Blood Institute, 10 Center Drive, Bethesda, MD 20892, USA."
          ]
        }
      ]
    },
    {
      "cell_type": "markdown",
      "source": [
        "Loop over directory and save results"
      ],
      "metadata": {
        "id": "ywbPhLuko1tL"
      }
    },
    {
      "cell_type": "code",
      "source": [
        "# Testing on discarded files:\n",
        "import os\n",
        "input_dir = \"drive/MyDrive/LAG/Articles_Parsed/temp/\"\n",
        "output_dir = \"drive/MyDrive/LAG/Articles_Parsed/temp/\"\n",
        "for filename in os.listdir(input_dir):\n",
        "  fl = []\n",
        "  with open(os.path.join(input_dir,filename), \"r\") as f:\n",
        "    file_content = f.readlines()\n",
        "    for line in file_content:\n",
        "      fl.append(line)\n",
        "\n",
        "\n",
        "  paragraph_start = []\n",
        "  paragraph_end = []\n",
        "\n",
        "  for ind, el in enumerate(fl):\n",
        "    if \"<p>\" in el:\n",
        "      p_start = ind\n",
        "      paragraph_start.append(p_start)\n",
        "    if \"</p>\" in el:\n",
        "      p_end = ind +1\n",
        "      paragraph_end.append(p_end)\n",
        "\n",
        "\n",
        "  paragraphs = []\n",
        "  for st, end in zip(paragraph_start, paragraph_end):\n",
        "    paragraphs.append(fl[st:end])\n",
        "\n",
        "  clean_paragraphs = []\n",
        "  for paragraph in paragraphs:\n",
        "    clean_paragraph = []\n",
        "    for line in paragraph:\n",
        "      line = line.strip()\n",
        "      line = line.replace('<p>', '')\n",
        "      line = line.replace('</p>', '')\n",
        "      clean_paragraph.append(line)\n",
        "    clean_paragraphs.append(clean_paragraph)\n",
        "  filename = (os.path.basename(filename).split('.')[0])\n",
        "  with open(os.path.join(output_dir, f'{filename}.txt'), 'w') as x:\n",
        "    x.write('\\n'.join(' '.join(map(str, row)) for row in clean_paragraphs))\n"
      ],
      "metadata": {
        "id": "FH1qnEm5o0AE"
      },
      "execution_count": 37,
      "outputs": []
    },
    {
      "cell_type": "code",
      "source": [
        "!ls drive/MyDrive/LAG/Articles_Parsed/temp/"
      ],
      "metadata": {
        "colab": {
          "base_uri": "https://localhost:8080/"
        },
        "id": "x_aFhcHlCATB",
        "outputId": "ac71d41c-04df-4326-86a6-d2547f87428b"
      },
      "execution_count": 38,
      "outputs": [
        {
          "output_type": "stream",
          "name": "stdout",
          "text": [
            "00000542-198606000-00018.cermxml  09031936.txt\n",
            "00000542-198606000-00018.txt\t  a%3A1010604913656.cermxml\n",
            "00000542-199404000-00007.cermxml  a%3A1010604913656.txt\n",
            "00000542-199404000-00007.txt\t  bja%2F64.4.493.cermxml\n",
            "00003246-198907000-00003.cermxml  bja%2F64.txt\n",
            "00003246-198907000-00003.txt\t  chest.128.2.714.cermxml\n",
            "00003246-199301000-00017.cermxml  chest.txt\n",
            "00003246-199301000-00017.txt\t  j.1399-6576.1998.tb05330.x.cermxml\n",
            "00003246-199406000-00014.cermxml  j.cnki.cjap.2016.05.006.cermxml\n",
            "00003246-199406000-00014.txt\t  j.txt\n",
            "00004872-198610000-00010.cermxml  NEJM199112123252404.cermxml\n",
            "00004872-198610000-00010.txt\t  NEJM199112123252404.txt\n",
            "00004872-198811000-00008.cermxml  NEJM199302113280605.cermxml\n",
            "00004872-198811000-00008.txt\t  NEJM199302113280605.txt\n",
            "00005344-199105000-00007.cermxml  s-2003-40371.cermxml\n",
            "00005344-199105000-00007.txt\t  s-2003-40371.txt\n",
            "00005344-199404000-00001.cermxml  s-2008-1067758.cermxml\n",
            "00005344-199404000-00001.txt\t  s-2008-1067758.txt\n",
            "00006231-199903000-00007.cermxml  s-2008-1068292.cermxml\n",
            "00006231-199903000-00007.txt\t  s-2008-1068292.txt\n",
            "00024382-199711000-00003.cermxml  S2213-2600%2820%2930394-5.cermxml\n",
            "00024382-199711000-00003.txt\t  S2213-2600%2820%2930394-5.txt\n",
            "09031936.01.17100080.cermxml\n"
          ]
        }
      ]
    },
    {
      "cell_type": "code",
      "source": [
        "!cat drive/MyDrive/LAG/Articles_Parsed/temp/S2213-2600%2820%2930394-5.txt"
      ],
      "metadata": {
        "colab": {
          "base_uri": "https://localhost:8080/"
        },
        "id": "lQRbmaxRCERN",
        "outputId": "f2a63272-cb5e-4e6a-98a2-aac983d9a445"
      },
      "execution_count": 41,
      "outputs": [
        {
          "output_type": "stream",
          "name": "stdout",
          "text": [
            "A new study has concluded that There was no significant diference adding selexipag to macitentan and in change in PVR between the tadalafil does not improve pulmonary two groups. The patients given vascular resistance in patients with double combination therapy saw an pulmonary arterial hypertension improvement in PVR of 52%, relative (PAH). The results were presented at to baseline levels, whereas those this year’s American Thoracic Society assigned the triple combination International Conference, which was saw an improvement of 54%. “The held online because of the COVID-19 results were fairly consistent across pandemic. subgroups”, said Kelly Chin (University\n",
            "The investigators randomly assigned of Texas Southwestern Medical 247 patients with PAH to receive first- Center, Dallas, TX, USA), the study’s line treatment either with macitentan corresponding author. Secondary and tadalafil, followed by the placebo endpoints were also similar. at 15 days (n=124), or macitentan “This study addresses a pressing and tadalafil, followed by selexipag question in the field: does up-front at 15 days (n=123). The patients had triple therapy improve PVR compared all been diagnosed with PAH in the with up-front dual therapy in PAH?”, 6 months before randomisation. commented Bradley Maron (Harvard Mean age was 52 years. The primary Medical School, Boston, MA, USA). endpoint was change in pulmonary “It appears this may not be the case vascular resistance (PVR) at week 26. with this particular approach. That is Secondary endpoints included change not the end of the story. There may be in 6-minute walk distance and time to space to reconsider patient selection disease progression. for up-front triple therapy, and we will Talha Khan Burki also need to think about integrating the forthcoming molecular targeted therapies with the conventional therapies we already have.” He cautioned against focusing exclusively on drugs. “We have very good data on the benefits of prescribed physical activity and exercise in PAH; it would be unfortunate if these options were overlooked”, Maron told The Lancet Respiratory Medicine.\n",
            "Chin points out that definitive Lancet Respir Med 2020 answers on the benefits of Published Online pharmacotherapy in PAH can only August 25, 2020 be provided by studies that examine Sh2tt2p1s3:/-/2d6o0i.0o(r2g0/1)300.1309146-/5 clinically important outcomes, such For the study on selexipag see as survival. “The problem is that these Am J Resp Crit Care Med 2020; kind of studies are very large and very 201: A2928 expensive”, she said. “But they are really important and the pulmonary hypertension community needs to figure out a way to make them happen.”"
          ]
        }
      ]
    },
    {
      "cell_type": "markdown",
      "source": [
        "### Running on dataset"
      ],
      "metadata": {
        "id": "iwINEvnFDp0P"
      }
    },
    {
      "cell_type": "code",
      "source": [
        "!mkdir drive/MyDrive/LAG/Articles_Parsed/extracted_paragraphs\n",
        "!ls drive/MyDrive/LAG/Articles_Parsed/"
      ],
      "metadata": {
        "colab": {
          "base_uri": "https://localhost:8080/"
        },
        "id": "0R3y4enWEAAX",
        "outputId": "0c203a5b-e6d7-4ff4-98fb-1db863f0302b"
      },
      "execution_count": 53,
      "outputs": [
        {
          "output_type": "stream",
          "name": "stdout",
          "text": [
            "extracted_paragraphs  images  pdf_files  temp  xml_files  xml_files_bk\n"
          ]
        }
      ]
    },
    {
      "cell_type": "code",
      "source": [
        "!cp -r drive/MyDrive/LAG/Articles_Parsed/xml_files drive/MyDrive/LAG/Articles_Parsed/xml_files_bk\n",
        "!ls drive/MyDrive/LAG/Articles_Parsed/"
      ],
      "metadata": {
        "colab": {
          "base_uri": "https://localhost:8080/"
        },
        "id": "QKgmTRArEvdi",
        "outputId": "e2148f9c-200a-4abc-958f-97edfce10107"
      },
      "execution_count": 47,
      "outputs": [
        {
          "output_type": "stream",
          "name": "stdout",
          "text": [
            "extracted_paragraphs  images  pdf_files  temp  xml_files  xml_files_bk\n"
          ]
        }
      ]
    },
    {
      "cell_type": "code",
      "source": [
        "filename = \"j.1399-6576.1998.tb05330.x.cermxml\"\n",
        "print(os.path.basename(filename).split('.cermxml')[0])"
      ],
      "metadata": {
        "colab": {
          "base_uri": "https://localhost:8080/"
        },
        "id": "Bu6TypOLFXsX",
        "outputId": "26d4eb49-fc6e-4856-f932-0bd446ef6d98"
      },
      "execution_count": 51,
      "outputs": [
        {
          "output_type": "stream",
          "name": "stdout",
          "text": [
            "j.1399-6576.1998.tb05330.x\n"
          ]
        }
      ]
    },
    {
      "cell_type": "code",
      "source": [
        "import os\n",
        "input_dir = \"drive/MyDrive/LAG/Articles_Parsed/xml_files/\"\n",
        "output_dir = \"drive/MyDrive/LAG/Articles_Parsed/extracted_paragraphs/\"\n",
        "for filename in os.listdir(input_dir):\n",
        "  fl = []\n",
        "  with open(os.path.join(input_dir,filename), \"r\") as f:\n",
        "    file_content = f.readlines()\n",
        "    for line in file_content:\n",
        "      fl.append(line)\n",
        "\n",
        "\n",
        "  paragraph_start = []\n",
        "  paragraph_end = []\n",
        "\n",
        "  for ind, el in enumerate(fl):\n",
        "    if \"<p>\" in el:\n",
        "      p_start = ind\n",
        "      paragraph_start.append(p_start)\n",
        "    if \"</p>\" in el:\n",
        "      p_end = ind +1\n",
        "      paragraph_end.append(p_end)\n",
        "\n",
        "\n",
        "  paragraphs = []\n",
        "  for st, end in zip(paragraph_start, paragraph_end):\n",
        "    paragraphs.append(fl[st:end])\n",
        "\n",
        "  clean_paragraphs = []\n",
        "  for paragraph in paragraphs:\n",
        "    clean_paragraph = []\n",
        "    for line in paragraph:\n",
        "      line = line.strip()\n",
        "      line = line.replace('<p>', '')\n",
        "      line = line.replace('</p>', '')\n",
        "      clean_paragraph.append(line)\n",
        "    clean_paragraphs.append(clean_paragraph)\n",
        "  filename = (os.path.basename(filename).split('.cermxml')[0])\n",
        "  with open(os.path.join(output_dir, f'{filename}.txt'), 'w') as x:\n",
        "    x.write('\\n'.join(' '.join(map(str, row)) for row in clean_paragraphs))\n"
      ],
      "metadata": {
        "id": "gXakfW6dD77Z"
      },
      "execution_count": 54,
      "outputs": []
    },
    {
      "cell_type": "code",
      "source": [
        "!cat drive/MyDrive/LAG/Articles_Parsed/extracted_paragraphs/s1053-0770%2805%2980140-5.txt\n"
      ],
      "metadata": {
        "colab": {
          "base_uri": "https://localhost:8080/"
        },
        "id": "fR9MfNtiG26L",
        "outputId": "1852661f-b871-4ec6-958c-4cec8e48655c"
      },
      "execution_count": 57,
      "outputs": [
        {
          "output_type": "stream",
          "name": "stdout",
          "text": [
            "Objectives: It is customary to extubate patients immediately after closed mitral valvotomy. These patients often have deranged respiratory function caused by chronic lung congestion. The left ventricular function may also be subnormal after valvotomy in some patients. Therefore, elective ventilation for some duration in the postoperative period can be beneficial to these patients. This work is an attempt to find whether elective ventilation should be preferred over immediate extubation in these patients. Design: A prospective randomized study. Setting: The study was performed in a tertiary care hospital, and the patients are referred from the northern states of India. Participants: One hundred patients undergoing elective closed mitral valvotomy were included in the initial part of the study. Ten more patients were studied to evaluate the effect of mild hypercarbia on right ventricular function after closed mitral valvotomy. Interventions: One hundred patients were divided into t w o groups of 50 each. Group 1 consisted of patients in whom the neuromuscular blockade was reversed at the end of surgery with neostigmine and atropine and the trachea was extubated. In group 2, the residual neuromuscular paralysis was not reversed and the patients were electively ventilated in the postoperative period for an average duration of 5 hours and 29 minutes -+ 1 hour and 58 minutes. In all the patients in both the groups, electrocardiogram, direct arterial blood pressure, and oxygen saturation were continuously monitored, and arterial blood gases were measured intermittently throughout the study period. Because the results showed that there was mild hypercarbia, 30 minutes after extubation in group 1, 10 more patients were studied to evaluate the effect of mild hypercarbia on right ventricular function after surgery. Patients were Journalof Cardtothoraclcand VascularAnesthesla,Vol 9, No 5 (October),1995 pp 552-557\n",
            "LOSED M I T R A L valvotomy (CMV) is still the preC ferred operation m India for patients with pure mitral stenosis due to the number of patients and for economic reasons. Long-term results of this operation have been reported to be satisfactory. 1 For experienced surgeons, the operation is usually straightforward and can be performed within 60 to 90 minutes. Consequently, it is the custom to extubate patients immediately after the operation. This minimizes their stay in the intensive care unit (ICU) and, hence, not only can more operations be performed, but also the ICU expenditure is minimized. Patients with mitral stenosis often have deranged respiratory function caused by chronic lung congestion.2,3 The left ventricular function may also be subnormal after valvotomy in some patients ventilated after surgery (FiOz = 1) to maintain normocarbia (PaCO238.6 -+ 3.4 mmHg). Mild hypercarbia (PaCO251.5 +- 3.7 mmHg) followed by normocarbia (PaCOz 40 -+ 2.5 mmHg) was induced by adjusting the ventilator rate with a constant tidal volume. Standard hemodynamic measurements were performed at each stage.\n",
            "Measurements andMainResults: Although all the patients maintained satisfactory and stable hemodynamics in the postoperative period, the PaCO2at the end of 30 minutes of extubation was significantly higher in group 1 (48.1 -+ 5.3 mmHg) as compared with group 2 (40.2 _+4.3 mmHg, p &lt; 0.001). Mild hypercarbia significantly increased pulmonary vascular resistance (p &lt; 0.01), mean pulmonary arterial pressure (p &lt; 0.001), right ventricular stroke work (p &lt; 0.01), right ventricular systolic pressure (p &lt; 0.01), and right ventricular end-diastolic pressure (p &lt; 0.001). The effect was not totally reversible with CO2 washout as all parameters except right ventricular end-diastolic pressure and pulmonary vascular resistance continued to remain significantly higher when normocarbia was restored. The significant changes in systemic hemodyamics produced by hypercarbia were increases in cardiac index, mean arterial pressure, and pulmonary capillary wedge pressure.\n",
            "fore, appears advisable in the early postoperative period because of potential impedence to right ventricular ejection.\n",
            "Copyright © 1995 by WoB.Saunders Company because of a ventnculotomy and sudden increases in the flow and distention of the chronically underloaded left ventricle. 4Therefore, elective ventdation for some duration in the postoperative period until the cardiorespiratory functions stabilize and the effect of muscle relaxant wears off can be beneficial to these patients. This work is an attempt to find whether elective ventilation should be preferred over immediate extubation after operation with respect to simple hemodynamic and respiratory parameters. The study was further extended to evaluate the effect of mild hypercarbia on right ventricular (RV) function in the postoperative period.\n",
            "One hundred patients undergoing elective CMV over a period of 1 year were studied. Patients with noncalcific lesions and without left atrial clots (echocardiographlc assessment) are considered for CMV in this hospital. The study protocol was approved by the Ethics Committee of this institution, and informed consent was obtained from each patient.\n",
            "Patients were premedicated with morphine, 0.2 mg/kg, and promethazine, 0.5 mg/kg, intramuscularly, 1 to 2 hours before the operation. A further dose of 3 to 5 mg of morphine was administered through a 23-gauge scalp vein needle before putting in radial arterial and venous catheters. General anesthesia was administered with thlopental, 3 to 5 mg/kg, and muscle relaxation was achieved with pancuronium bromide, 0.1 mg/kg, followed by endotracheal intubation. Anesthesia was maintained with nitrous oxide and oxygen using a fractional concentration of oxygen (FIO2) of 0.33 and supplemented with halothane. A further dose of pancuronium bromide, 0.05 mg/kg, was administered at the end of 1 hour.\n",
            "Patients were randomly allocated to one of two groups. Group 1 (n = 50) consisted of patients m whom the neuromuscular blockade was reversed at the end of surgery with neostigmine, 0.06 mg/kg, and atropine, 0.02 mg/kg. In this group, when the patient was able to lift their head on command and respiration was judged to be satisfactory chnlcally, the trachea was extubated. Nitrous oxide was turned off, and the patients were awake when the head lift test was performed. Forty percent oxygen was administered via mask, and the patient was transferred to the ICU. In group 2 (n = 50), the residual neuromuscular paralysis was not reversed, and the patients were electively ventilated (FIO2 = 0.4) in the postoperative period to maintain the arterial carbon dioxide tension (PaCO2) at 35 to 40 mmHg. These patients received morphine, 3 to 5 mg, intravenously, before transferring them to the ICU; the same dose was used as sedation in the ICU, if necessary.\n",
            "The decision to allow these patients to breathe spontaneously was based on the following criteria: 1. hemodynamic stability, including a stable heart rate, rhythm, and blood pressure; 2. return to adequate level of consciousness to the extent that it was possible to communicate with the patient; 3. adequate spontaneous respiratory effort by chnical judgment; and 4. arterial oxygen tension (PaO2) more than 70 mmHg with an FIO2 of 0.4.\n",
            "On meeting these criteria, the patient was permitted to breathe spontaneously through a T-piece attached to the endotracheal tube for 30 to 45 minutes. Criteria for a satisfactory T-piece trial included hemodynamic stability, respiratory rate less than 30 breaths/min, PaO2 more than 70 mmHg and PaCO2 less than 45 mmHg.\n",
            "The endotracheal tube was then removed, and the patient was allowed to breathe 40% oxygen via a mask. In all the patients in both groups, electrocardiogram (ECG), direct arterial blood pressure, and oxygen saturation were continuously monitored, and arterial blood gases were measured intermittently throughout the study period.\n",
            "Statistical analysis was performed by applying the Student's t-test, and a p value of less than 0.05 was considered to be sigmficant.\n",
            "Because the results showed that there was mild hypercarbia 30 minutes after extubation in group 1, 10 more patients were studied to evaluate the effect of todd hypercarbia on RV function after CMV. The anesthesia protocol was the same as described before in these patients.\n",
            "A triple-lumen thermodilution pulmonary artery catheter with a rapid-response thermistor (Swan-Ganz-Viggo Spectramed, Oxnard, CA) was inserted for the measurement of right atrial pressure (RAP), mean pulmonary arterial pressure (PAP), and pulmonary capillary wedge pressure (PCWP). Cardiac output was measured by thermodilution using 10 mL of 0.9% ice cold saline with the help of a computer (Viggo Spectramed SP 1445, Oxnard, CA). Three consecutwe, successful determinations were averaged, provided the difference between any two readings did not exceed 15%. Cardiac Index (CI), systemic (SVR) and pulmonary (PVR) vascular resistances, and right (RVSW) and left (LVSW) ventricular stroke work were calculated using the standard formulae. The proximal lumen of the pulmonary artery catheter was advanced to lie in the RV for the measurement of RV pressure. The study was performed after CMV and chest closure in the operating room while the patients were being mechamcally ventdated ( F I O 2 = 1, Airshields, Hatboro, PA). About 30 minutes before the beginning of the study period, morphine (3 to 5 mg) and pancuronium (2 rag) were administered. Baseline measurements (control) were taken when the patients were normocarbic (PaCO2 = 38.68 _ 3.44 mmHg). Mild hypercarbia (PaCO2 = 51.5 -+ 3.7 mmHg) was produced by adjusting the ventilator rate with a constant tidal volume. After a stabihzation period of 10 minutes, the measurements were repeated. Normocarbia (PaCO2 = 4 0 - 2.5 mmHg) was restored, and after 10 minutes of stabilization, the measurements were recorded again. Frequent blood gas analyses were used to detect changes in PaCO2. No fluids were administered during the study period. The values obtained at different PaCO2 levels were compared using Student's two-tailed t tests, and a p value of less than 0.05 was deemed significant.\n",
            "Patients' ages ranged between 12 to 58 years with the mean age of 28.2 _-_9.9 years. There were 46 men and 54 women. Table 1 shows the preoperative data of the patients in the two groups. The groups are comparable with respect to age, sex, and severity of the disease. Table 2 shows blood gas measurements after extubation in the two groups. The PaCO2 was significantly higher 30 minutes after extubation in group 1. It ranged between 34 to 59.1 mmHg with a mean of 48.1 --+5.3 mmHg. The PaCO2 in group 2 thirty minutes after extubation ranged between 32.5 to 47.6 mmHg with a mean of 40.2 --- 4.3. Patients were ventilated for a mean duration of 5 hours and 29 minutes _+ 1 hour and 58 minutes. Thirty-eight patients (76%) in group 1 and 10 patients (20%) in group 2 had a PaCO2 higher than 45 mmHg 30 minutes after extubatlon. None of the patients in either group required reintubatlon, although it was considered in 4 patients in group i in whom the PaCO2 increased to more than 58 mmHg.\n",
            "The mean arterial pressure (MAP) and heart rate (HR)\n",
            "Mean age Male/female MV area\n",
            "1,6 cm 2 1.1-1 5 cm 2 &lt;~1 cm 2 RVSP ~40 mmHg 41-60 mmHg 961 mmHg ASA grade II ASA grade III AF recorded for 6 hours after the operation in the two groups did not differ significantly.\n",
            "In the additional 10 patients studied, there were 6 men and 4 women with a mean age of 24.4 - 4.8 years and mean body surface area of 1.44 -x-_0.15 m 2. The PaCO2 levels were 38.68 --_ 3.44, 51.5 __-3.7 and 40 __.2.5 mmHg at normocarbia, hypercarbia, and repeat normocarbia, respectively. The corresponding ventilation and oxygenation data are listed in Table 3. Mild hypercarbia increased the right ventricular afterload as manifested by significant increases in P V R (from 276.8 --- 211.5 to 345.7 - 225.3 dyne • s • cm -5, p &lt; 0.01) and PAP (from 33.3 - 17.5 to 49 __-20.3 mmHg, p &lt; 0.001) (Table 4). The increase in RV afterload was associated with an increase in RVSW (from 16.7 _ 11 to 30.3 ± 19.4 g . mL/beat, p &lt; 0.01), RV systolic pressure (from 45.5 --- 14.8 to 72 - 30.4 mmHg, p &lt; 0.01), and right ventricular end diastolic pressure (RVEDP) (from 5.1 --- 3.3 to 8.2 --. 4.4 mmHg, p &lt; 0.001).\n",
            "The effects of hypercarbia on right ventricular hemodynamics became less severe (but still statistically significant) when normocarbia was restored, except R V E D P and PVR, which returned to control value (Table 4, Figs 1 through 5). The significant changes in systemic hemodynamics produced by hypercarbia were increases in CI, MAP and PCWP (Table 5).\n",
            "Owing to the sheer number of patients and economic reasons, CMVs must continue to be practiced in India.\n",
            "Repeat Normocarbla (PaCO2 40-+25) 7 37 + 0.04 411.7 ± 111.2 99.6 _+0.49 pH PaO2(mmHg) 02 saturation (%) Open mitral commissurotomy is, of course, a better operat]on5-8because rehef of valvular and subvalvular obstructive elements can be dealt with much better under direct vision.\n",
            "A majority of the patients are extubated on the table so that the length of the ICU stay is reduced and more operations can be performed. In mitral stenosis, increased pulmonary blood volume3 and increased extravascular lung water 4 lead to a decrease in lung compliance and exacerbation of ventilation perfusion inequalities. It may therefore be useful to ventilate these patients for a few hours in the postoperative period until the effect of anesthetic agents and muscle relaxants completely ends. The cardiac function would also be stabilized by then and, thus, overall cardiorespiratory function could be expected to be better.\n",
            "The results show that the patients who were extubated on the table maintained satisfactory and stable hemodynamics (MAP of 80 to 90 mmHg and H R of 80 to 100 bpm with a variability of &lt; 10%) in the postoperative period. They also maintained adequate PaO2 and oxygen saturation. However, their PaCO2 at the end of 30 minutes of extubation was significantly higher than those who were electively ventilated. The period of 30 minutes was chosen because by then the ventilation would be stabilized in most patients. Patients were closely monitored during this period.\n",
            "Slight hypercarbia (such as observed commonly in clinical situations) induced by alveolar hypoventilation in these patients resulted in a significant increase in right ventricular afterload with significant increases in RVSW, RVEDP, and RV systolic pressure. The RV ejection fraction was not studied in these patients because the recently introduced pulmonary artery catheter with a rapid-response thermistor allowing for beat-to-beat temperature variation and the computer necessary for it were not available. Abbreviations' CVP, central venous pressure; PAP, mean pulmonary artery pressure, RVSW, right ventricular stroke work; PVR, pulmonary vascular resistance; RV, right ventricle, RVEDP, right ventncular enddmstohc pressure *p &lt; 0 0 5 l\"p &lt; 0.01 ~p &lt; 0 001 \" r E g ~ 0 10-10-\n",
            "I NORMO\n",
            "I HYPER PaCO=\n",
            "P&lt;O,05\n",
            "I NORMO\n",
            "Changes in the individual values of RVSW over the study Hypercarbia leads to pulmonary vasoconstriction in experimental animals. 9-1aThe distinct increase an the pulmonary artery pressure observed an these patients implies marked pulmonary vasoconstrictor effects of increasing PaCO2. Similar response has been shown to occur in patients with congenital heart disease or chronic obstructive lung disease3 2.13Effects of mild hypercarbia have also been studied by Salmenpera and Heinonen 14 an patients after coronary artery bypass grafting (CABG). They observed similar changes that were totally reversible after carbon dioxide challenge was withdrawn. However, these patients continued to show s~gnificantly increased PAP, RVSW, and RV (systolic) pressure after restoring normocarbia. This may be due to the fact that all the patients had moderate to severe pulmonary artery hypertension (PAH) (preoperative E C H O assessment), and patients with increased baseline PVR have been reported to show an exaggerated response to a pulmonary vasoconstrictorlike nitrous oxide.15\n",
            "The observed increase in RVSW and R V E D P may be a physiologic compensataon to the increased afterload. This can also result from impairment of RV contractility. Effectwe maintenance of RV stroke volume in these patients suggests that they were on the ascending limb of the Frank-Starling curve, taking advantage of the preload augmentation None of the pataents had associated coronary artery disease, and all maintained a good MAP, which I NORMO\n",
            "I HYPER\n",
            "P&lt;O.05\n",
            "I NORMO\n",
            "Fig 1, Changes in the individual values of PAP over the study period.\n",
            "f\n",
            "~\n",
            "I NORMO\n",
            "t HYPER PaCO 2\n",
            "N.S\n",
            "I NORMO\n",
            "Changes in the individual values of PVR over the study t:n \"rE vE 2 (n Q. o \"5 O ,rEO) CC O~ hE vE 00 O. .2 \"5 PaGO=\n",
            "N.S\n",
            "I NORMO\n",
            "Fig 5 Changes m the individual values of right ventncular enddiastolic pressure over the study period resistance as a result of which M A P tends to be increased. 2° This effect is mediated through the sympathetic nervous system. Significant increases were observed in CI, PCWP, and MAP. A mild decrease in SVR was observed durmg hypercarbia that did not attain statistical significance; however, it continued to decrease and attained significance during the period of repeat normocarbia. The high baseline PCWP in these patients may be due to the presence of irreversible structural a b n o r m a h t l e s that p r e d o m i n a t e in patients with pulmonary hypertension at later stages of disease.\n",
            "In conclusion, patients who are extubated immediately after C M V maintain a significantly high PaCO2 level as c o m p a r e d with those who are electively ventilated in the p o s t o p e r a t i v e period. Mild hypercarbla after C M V causes m a r k e d increases in resistance to blood flow in the pulmonary vascular b e d resulting In high R V filling pressures. T h e s e increases in R V afterload are likely to be detrimental to patients suffering from R V dysfunction. P r o m p t detectlon and p r e v e n t i o n of respiratory acidosis in these patients are important. Continuous monitoring of the end-tidal CO2 and f r e q u e n t blood gas analyses should be practiced, and elective ventilation should be considered in patients with long-standing disease and pulmonary hypertension.\n",
            "The authors would hke to thank L Satyanarayana, Senior Research Officer, Institute of Cytology and Preventive Oncology, New Delhi, for his help in statistical analysis, and Baldev Slngh, Cardiac Operating Room Technician, for his techmcal assistance"
          ]
        }
      ]
    }
  ]
}